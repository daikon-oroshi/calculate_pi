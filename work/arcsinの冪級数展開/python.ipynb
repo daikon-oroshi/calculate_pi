{
 "cells": [
  {
   "cell_type": "markdown",
   "metadata": {},
   "source": [
    "# arcsinのテイラー展開で円周率を求める\n",
    "\n",
    "\n",
    "[![alt設定](http://img.youtube.com/vi/GlUZvPSQ6hg/0.jpg)](https://www.youtube.com/watch?v=GlUZvPSQ6hg)"
   ]
  },
  {
   "cell_type": "markdown",
   "metadata": {},
   "source": [
    "$\\sin x$ の逆関数 $\\arcsin x$ の冪級数展開\n",
    "\n",
    "$$\\arcsin x = \\sum_{n = 0}^{\\infty} \\frac{(2n -1)!!}{(2n)!!} \\frac{x^{2n +1}}{2n + 1} \\quad (-1 \\leq x \\leq 1)$$\n",
    "\n",
    "を用いて円周率を計算します。ただし、\n",
    "\n",
    "$$\\begin{align}\n",
    "(2n)!! & = 2n \\cdot (2n -2) \\cdots 4 \\cdot 2, \\\\ \n",
    "(2n -1)!! &= (2n -1) \\cdot (2n -3) \\cdots 3 \\cdot 1,\\\\\n",
    "0!! &= 1, \\\\\n",
    "-1!! &= 1\n",
    "\\end{align}$$\n",
    "\n",
    "とします。\n",
    "\n",
    "$$\\begin{align}\n",
    "\\sin \\frac{\\pi}{6} &= \\frac{1}{2}  &&  && \\frac{\\pi}{6} = \\arcsin\\frac{1}{2} = \\sum_{n = 0}^{\\infty} \\frac{(2n -1)!!}{(2n)!!} \\frac{(\\frac{1}{2})^{2n +1}}{2n + 1}\\\\\n",
    "\\sin \\frac{\\pi}{4} &= \\frac{1}{\\sqrt{2}} && \\Rightarrow && \\frac{\\pi}{4} = \\arcsin\\frac{1}{\\sqrt{2}} = \\sum_{n = 0}^{\\infty} \\frac{(2n -1)!!}{(2n)!!} \\frac{(\\frac{1}{\\sqrt{2}})^{2n +1}}{2n + 1}\n",
    "\\\\\n",
    "\\sin \\frac{\\pi}{2} &= 1 && && \\frac{\\pi}{2} = \\arcsin 1 = \\sum_{n = 0}^{\\infty} \\frac{(2n -1)!!}{(2n)!!} \\frac{1}{2n + 1}\n",
    "\\end{align}$$\n",
    "\n",
    "なので、この3つの級数で円周率を求めます。"
   ]
  },
  {
   "cell_type": "code",
   "execution_count": 7,
   "metadata": {},
   "outputs": [],
   "source": [
    "\"\"\"arcsin x = Σa_n(x) とおけば、a_{n+1}(x) = ((2n+1)^2 x^2 / (2n +2)(2n+3))a_n(x)\"\"\"\n",
    "\n",
    "from typing import Generator, Tuple\n",
    "\n",
    "def next_term(cur_term: float, x: float, n: int) -> float:\n",
    "    # a_{n+1} を返す\n",
    "    return (\n",
    "        (2 * n + 1) **2\n",
    "        / ((2 * n + 2) * (2 * n + 3))\n",
    "    ) * cur_term * x ** 2\n",
    "\n",
    "def arcsin_series(x) -> Generator[Tuple[float, int], None, None]:\n",
    "    n = 0\n",
    "    cur_term = x\n",
    "    _sum = x\n",
    "    while True:\n",
    "        yield (_sum, n)\n",
    "        cur_term = next_term(cur_term, x, n)\n",
    "        _sum = _sum + cur_term\n",
    "        n = n + 1"
   ]
  },
  {
   "cell_type": "code",
   "execution_count": 8,
   "metadata": {},
   "outputs": [
    {
     "name": "stdout",
     "output_type": "stream",
     "text": [
      "n = 0\n",
      "2 * arcsin(1) \t \t = π ≧ 2.000000\n",
      "4 * arcsin(1/√2) \t = π ≧ 2.828427\n",
      "6 * arcsin(1/2)\t = π ≧ 3.00000000\n",
      "n = 1\n",
      "2 * arcsin(1) \t \t = π ≧ 2.333333\n",
      "4 * arcsin(1/√2) \t = π ≧ 3.064129\n",
      "6 * arcsin(1/2)\t = π ≧ 3.12500000\n",
      "n = 2\n",
      "2 * arcsin(1) \t \t = π ≧ 2.483333\n",
      "4 * arcsin(1/√2) \t = π ≧ 3.117162\n",
      "6 * arcsin(1/2)\t = π ≧ 3.13906250\n",
      "n = 3\n",
      "2 * arcsin(1) \t \t = π ≧ 2.572619\n",
      "4 * arcsin(1/√2) \t = π ≧ 3.132946\n",
      "6 * arcsin(1/2)\t = π ≧ 3.14115513\n",
      "n = 4\n",
      "2 * arcsin(1) \t \t = π ≧ 2.633383\n",
      "4 * arcsin(1/√2) \t = π ≧ 3.138317\n",
      "6 * arcsin(1/2)\t = π ≧ 3.14151117\n",
      "n = 5\n",
      "2 * arcsin(1) \t \t = π ≧ 2.678127\n",
      "4 * arcsin(1/√2) \t = π ≧ 3.140294\n",
      "6 * arcsin(1/2)\t = π ≧ 3.14157672\n",
      "n = 6\n",
      "2 * arcsin(1) \t \t = π ≧ 2.712833\n",
      "4 * arcsin(1/√2) \t = π ≧ 3.141061\n",
      "6 * arcsin(1/2)\t = π ≧ 3.14158943\n",
      "n = 7\n",
      "2 * arcsin(1) \t \t = π ≧ 2.740762\n",
      "4 * arcsin(1/√2) \t = π ≧ 3.141370\n",
      "6 * arcsin(1/2)\t = π ≧ 3.14159198\n",
      "n = 8\n",
      "2 * arcsin(1) \t \t = π ≧ 2.763866\n",
      "4 * arcsin(1/√2) \t = π ≧ 3.141497\n",
      "6 * arcsin(1/2)\t = π ≧ 3.14159251\n",
      "n = 9\n",
      "2 * arcsin(1) \t \t = π ≧ 2.783389\n",
      "4 * arcsin(1/√2) \t = π ≧ 3.141551\n",
      "6 * arcsin(1/2)\t = π ≧ 3.14159262\n",
      "\n",
      "π = 3.1415926535...\n"
     ]
    }
   ],
   "source": [
    "\"\"\"πの計算\"\"\"\n",
    "\n",
    "import math\n",
    "\n",
    "S_2 = arcsin_series(1)\n",
    "S_4 = arcsin_series(1 / math.sqrt(2))\n",
    "S_6 = arcsin_series(1 / 2)\n",
    "\n",
    "for n in range(0, 10):\n",
    "    \"\"\" arcsin 1/ 2 のみ\n",
    "    print(f\"{n+1}項目 : {6 * next(S_6)[0]:.8f}\")\n",
    "    \"\"\"\n",
    "    \"\"\"# arcsin 1 のみ\n",
    "    print(f\"{n+1}項目 : {2 * next(S_2)[0]:.8f}\")\n",
    "    \"\"\"\n",
    "    \n",
    "    print(f\"n = {n}\")\n",
    "    print(f\"2 * arcsin(1) \\t \\t = π ≧ {2 * next(S_2)[0]:.6f}\")\n",
    "    print(f\"4 * arcsin(1/√2) \\t = π ≧ {4 * next(S_4)[0]:.6f}\")\n",
    "    print(f\"6 * arcsin(1/2)\\t = π ≧ {6 * next(S_6)[0]:.8f}\")\n",
    "    \n",
    "print(\"\")\n",
    "print(\"π = 3.1415926535...\")"
   ]
  },
  {
   "cell_type": "code",
   "execution_count": 9,
   "metadata": {},
   "outputs": [
    {
     "name": "stdout",
     "output_type": "stream",
     "text": [
      "n=63まで足して 3.000454456088219\n",
      "n=736まで足して 3.1000259251658133\n",
      "n=501958まで足して 3.14000000129165\n",
      "n=3625002まで足して 3.141000000054965\n"
     ]
    }
   ],
   "source": [
    "\"\"\"x = 1のときにいつ 3.14 を超えるか?\"\"\"\n",
    "\n",
    "S_2 = arcsin_series(1)\n",
    "_sum = 0\n",
    "n = 0\n",
    "\n",
    "for p in [3, 3.1, 3.14, 3.141]:\n",
    "    while 2 * _sum < p:\n",
    "        (_sum, n) = next(S_2)\n",
    "        continue\n",
    "    print(f\"n={n}まで足して {2*_sum}\")"
   ]
  },
  {
   "cell_type": "markdown",
   "metadata": {},
   "source": [
    "この結果からわかる通り、$6\\arcsin \\frac{1}{2}$ が一番速く $\\pi$ に収束します。これはテイラー展開の剰余項の収束の速さに関係します。\n",
    "\n",
    "$$\\frac{1}{\\sqrt{1 -x}} = \\sum_{k = 0}^n \\frac{(2n -1)!!}{(2n)!!} x^n + R_n(x)$$\n",
    "\n",
    "とおいたとき、剰余項は $R_n(x)$ は、 $g(x) = \\frac{1}{\\sqrt{1 -x}}$ とおいて\n",
    "\n",
    "$$R_n(x) = \\int_0^x \\cdots \\int_0^{t_n} g^{(n+1)}(t_{n+1}) dt_{n+1} \\dots d{t_1} $$\n",
    "\n",
    "と表されます。ここで\n",
    "\n",
    "$$g^{(n)}(x) = \\frac{(2n -1)!!}{2^{n}}(1 -x)^{-n -\\frac{1}{2}} = \\frac{(2n -1)!!}{2^n}\\frac{1}{(1 -x)^n \\sqrt{1 -x}} $$\n",
    "\n",
    "となります。$g^{(n)}(t_n)$ は $0 \\leq t_n  < 1$ で単調増加なので、$g^{(n+1)}(t_{n+1}) \\leq g^{(n+1)}(x)$ と評価すれば、$0 < t < x$ に対して\n",
    "\n",
    "$$\\begin{align} \n",
    "R_n(t) &\\leq \\frac{(2n +1)!!}{2^{n+1}} (1 -x)^{-n -1 -\\frac{1}{2}} \\frac{x^{n+1}}{(n+1)!} \\\\\n",
    "&= \\frac{(2n +1)!!}{(2n+2)!!} \\frac{x^{n+1}}{(1 -x)^{n+1+\\frac{1}{2}}}\n",
    "\\end{align}$$\n",
    "\n",
    "が成り立ちます。よって\n",
    "\n",
    "$$\\begin{align}\n",
    "\\arcsin x &= \\sum_{k = 0}^n \\frac{(2n -1)!!}{(2n+2)!!} \\frac{x^{2n +1}}{2n + 1} + \\int_{0}^x R_n(t^2) dt \\\\\n",
    "& \\leq \\sum_{k = 0}^n \\frac{(2n -1)!!}{(2n+2)!!} \\frac{x^{2n +1}}{2n + 1} + \\frac{(2n +1)!!}{(2n+2)!!} \\frac{x^{2n+2}}{(1 -x^2)^{n+1+\\frac{1}{2}}} x\n",
    "\\end{align}$$\n",
    "\n",
    "となります。これにより $x = \\frac{1}{2}$ とすれば\n",
    "\n",
    "$$\\sum_{k = 0}^n \\frac{(2n -1)!!}{(2n+2)!!} \\frac{x^{2n +1}}{2n + 1} \\leq \\frac{\\pi}{6} \\leq \\sum_{k = 0}^n \\frac{(2n -1)!!}{(2n+2)!!} \\frac{x^{2n +1}}{2n + 1} + \\frac{(2n +1)!!}{(2n+2)!!} \\frac{x^{2n+3}}{(1 -x^2)^{n+1+\\frac{1}{2}}}$$\n",
    "\n",
    "と $\\pi$ を上から評価できます。これで円周率を求めてみましょう。"
   ]
  },
  {
   "cell_type": "code",
   "execution_count": 67,
   "metadata": {},
   "outputs": [
    {
     "name": "stdout",
     "output_type": "stream",
     "text": [
      "n =  0\n",
      " 3.000000000000000 ≦ π ≦  3.577350269189626\n",
      "n =  1\n",
      " 3.125000000000000 ≦ π ≦  3.269337567297407\n",
      "n =  2\n",
      " 3.139062500000000 ≦ π ≦  3.179156268693724\n",
      "n =  3\n",
      " 3.141155133928572 ≦ π ≦  3.152849149797574\n",
      "n =  4\n",
      " 3.141511172340030 ≦ π ≦  3.145019377100732\n",
      "n =  5\n",
      " 3.141576715774867 ≦ π ≦  3.142648667229526\n",
      "n =  6\n",
      " 3.141589425319122 ≦ π ≦  3.141921219816993\n",
      "n =  7\n",
      " 3.141591982358383 ≦ π ≦  3.141695668138968\n",
      "n =  8\n",
      " 3.141592511157863 ≦ π ≦  3.141625152977676\n",
      "n =  9\n",
      " 3.141592622870618 ≦ π ≦  3.141602959446892\n",
      "n = 10\n",
      " 3.141592646875562 ≦ π ≦  3.141595935786194\n",
      "n = 11\n",
      " 3.141592652105888 ≦ π ≦  3.141593702730118\n",
      "n = 12\n",
      " 3.141592653258739 ≦ π ≦  3.141592989997274\n",
      "n = 13\n",
      " 3.141592653515338 ≦ π ≦  3.141592761752725\n",
      "n = 14\n",
      " 3.141592653572931 ≦ π ≦  3.141592688449422\n",
      "\n",
      "π = 3.141592653589793238...\n"
     ]
    }
   ],
   "source": [
    "x = 1 /2\n",
    "\n",
    "init_rem = (1 / 2) * (x ** 3) / ((1 -x**2)* math.sqrt(1 -x**2))\n",
    "\n",
    "def next_remainder(cur, x, n):\n",
    "    return ((2*n+3)/(2 * n + 4)) * cur * x**2 / (1 -x**2)\n",
    "    \n",
    "    \n",
    "S_6 = arcsin_series(x)\n",
    "rem = init_rem\n",
    "_sum = 0\n",
    "n = 0\n",
    "\n",
    "for n in range(0, 15):\n",
    "    (_sum, _) = next(S_6)\n",
    "    print(f\"n = {n:2}\")\n",
    "    print(f\"{6 * _sum: .15f} ≦ π ≦ {6 * (_sum + rem): .15f}\")\n",
    "    rem = next_remainder(rem, x, n)\n",
    "    \n",
    "print(\"\")\n",
    "print(\"π = 3.141592653589793238...\")"
   ]
  },
  {
   "cell_type": "markdown",
   "metadata": {},
   "source": [
    "上からの評価が下からの評価よりも良くないですね。剰余項の評価が少し甘いようです。"
   ]
  }
 ],
 "metadata": {
  "kernelspec": {
   "display_name": "Python 3",
   "language": "python",
   "name": "python3"
  },
  "language_info": {
   "codemirror_mode": {
    "name": "ipython",
    "version": 3
   },
   "file_extension": ".py",
   "mimetype": "text/x-python",
   "name": "python",
   "nbconvert_exporter": "python",
   "pygments_lexer": "ipython3",
   "version": "3.7.3"
  }
 },
 "nbformat": 4,
 "nbformat_minor": 2
}
