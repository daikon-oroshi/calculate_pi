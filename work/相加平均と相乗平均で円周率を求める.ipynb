{
 "cells": [
  {
   "cell_type": "markdown",
   "metadata": {},
   "source": [
    "# 相加平均と相乗平均で円周率を求める"
   ]
  },
  {
   "cell_type": "markdown",
   "metadata": {},
   "source": [
    "$a_1 = \\frac{1}{4}$ と $b_1 = \\frac{\\sqrt{2}}{4}$ を初期値として\n",
    "\n",
    "$$\\begin{align}\n",
    "a_{n+1} = \\frac{a_n + b_n}{2}, \\\\\n",
    "b_{n+1} = \\sqrt{a_{n+1} b_n}\n",
    "\\end{align}$$\n",
    "\n",
    "で定義される数列 $\\{a_n\\}$, $\\{b_n\\}$ を考えます。つまり、$a_n$ と $b_n$ の相加平均を $a_{n+1}$, $a_n$ と $b_n$ の相乗平均を $b_{n+1}$ とおきます。この時、\n",
    "\n",
    "$$\\frac{1}{b_n} < \\pi < \\frac{1}{a_n}$$\n",
    "\n",
    "であり、\n",
    "\n",
    "$$\\lim_{n \\to \\infty} \\frac{1}{a_n} = \\lim_{n \\to \\infty} \\frac{1}{b_n} = \\pi$$\n",
    "\n",
    "となることが知られています。\n",
    "\n",
    "実際に計算してみましょう。"
   ]
  },
  {
   "cell_type": "code",
   "execution_count": 2,
   "metadata": {},
   "outputs": [],
   "source": [
    "import math\n",
    "from typing import Tuple\n",
    "\n",
    "def arith_mean(a: float, b: float) -> float:\n",
    "    return (a + b) / 2\n",
    "\n",
    "def geom_mean(a: float, b: float) -> float:\n",
    "    return math.sqrt(a * b)\n",
    "\n",
    "def next_num(a: float, b: float) -> Tuple[float]:\n",
    "    a_ = arith_mean(a, b)\n",
    "    return (\n",
    "        a_,\n",
    "        geom_mean(a_, b)\n",
    "    )"
   ]
  },
  {
   "cell_type": "code",
   "execution_count": 4,
   "metadata": {
    "scrolled": true
   },
   "outputs": [
    {
     "name": "stdout",
     "output_type": "stream",
     "text": [
      "n = 1   2.82842712 < π < 4.00000000    誤差 : 1.17157288\n",
      "n = 2   3.06146746 < π < 3.31370850    誤差 : 0.25224104\n",
      "n = 3   3.12144515 < π < 3.18259788    誤差 : 0.06115273\n",
      "n = 4   3.13654849 < π < 3.15172491    誤差 : 0.01517642\n",
      "n = 5   3.14033116 < π < 3.14411839    誤差 : 0.00378723\n",
      "n = 6   3.14127725 < π < 3.14222363    誤差 : 0.00094638\n",
      "n = 7   3.14151380 < π < 3.14175037    誤差 : 0.00023657\n",
      "n = 8   3.14157294 < π < 3.14163208    誤差 : 0.00005914\n",
      "n = 9   3.14158773 < π < 3.14160251    誤差 : 0.00001478\n",
      "n = 10   3.14159142 < π < 3.14159512    誤差 : 0.00000370\n",
      "n = 11   3.14159235 < π < 3.14159327    誤差 : 0.00000092\n"
     ]
    }
   ],
   "source": [
    "print_times = [1, 2, 3, 4, 5, 6, 7, 8, 9, 10]\n",
    "\n",
    "a, b = (1 / 4, math.sqrt(2)/4)\n",
    "# a, b = (math.sqrt(3) / 9, 2 *math.sqrt(3)/9)\n",
    "\n",
    "print(f\"n = {1}   {1/b:.8f} < π < {1/a:.8f}    誤差 : {1/a - 1/b:.8f}\")\n",
    "for i in range(1, print_times[-1] + 1):\n",
    "    a, b = next_num(a, b)\n",
    "    if i in print_times:\n",
    "        print(f\"n = {i+1}   {1/b:.8f} < π < {1/a:.8f}    誤差 : {1/a - 1/b:.8f}\")\n"
   ]
  },
  {
   "cell_type": "markdown",
   "metadata": {},
   "source": [
    "## アルキメデスの方法との関係\n",
    "\n",
    "アルキメデスは、円に内接する正多角形と円に外接する正多角形の、それぞれの周により円周を近似することで円周率を求めました。アルキメデスは、内接正多角形と外接正多角形を別々に考えましたが、一緒に考えると、似た漸化式が得られます。\n",
    "\n",
    "半径 $1$ の円の内接正 $2^{n+1}$ 角形の周の長さの半分を$A_n$、半径 $1$ の円の外接正 $2^{n+1}$ 角形の周の長さの半分を$B_n$ とすると、周の長さの関係から、\n",
    "\n",
    "$$A_n < 2 \\pi < B_n $$\n",
    "\n",
    "となり、さらに\n",
    "\n",
    "$$\\begin{align}\n",
    "B_{n+1} &= \\frac{2A_nB_n}{A_n + B_n} \\\\\n",
    "A_{n+1} &= \\sqrt{A_n B_{n+1}}\n",
    "\\end{align}$$\n",
    "\n",
    "が成り立ちます。$A_1 = 2\\sqrt{2}$, $B_1 = 4$ です。これで円周率が求められるか確かめましょう。"
   ]
  },
  {
   "cell_type": "code",
   "execution_count": 6,
   "metadata": {},
   "outputs": [],
   "source": [
    "def harmonic_mean(a: float, b: float) -> float:\n",
    "    return 2*a*b / (a + b)\n",
    "\n",
    "def _next_num(a: float, b: float) -> Tuple[float]:\n",
    "    b_ = harmonic_mean(a, b)\n",
    "    return (\n",
    "        geom_mean(a, b_),\n",
    "        b_\n",
    "    )"
   ]
  },
  {
   "cell_type": "code",
   "execution_count": 7,
   "metadata": {},
   "outputs": [
    {
     "name": "stdout",
     "output_type": "stream",
     "text": [
      "n = 1   2.82842712 < π < 4.00000000    誤差 : 1.17157288\n",
      "n = 2   3.06146746 < π < 3.31370850    誤差 : 0.25224104\n",
      "n = 3   3.12144515 < π < 3.18259788    誤差 : 0.06115273\n",
      "n = 4   3.13654849 < π < 3.15172491    誤差 : 0.01517642\n",
      "n = 5   3.14033116 < π < 3.14411839    誤差 : 0.00378723\n",
      "n = 6   3.14127725 < π < 3.14222363    誤差 : 0.00094638\n",
      "n = 7   3.14151380 < π < 3.14175037    誤差 : 0.00023657\n",
      "n = 8   3.14157294 < π < 3.14163208    誤差 : 0.00005914\n",
      "n = 9   3.14158773 < π < 3.14160251    誤差 : 0.00001478\n",
      "n = 10   3.14159142 < π < 3.14159512    誤差 : 0.00000370\n",
      "n = 11   3.14159235 < π < 3.14159327    誤差 : 0.00000092\n"
     ]
    }
   ],
   "source": [
    "print_times = [1, 2, 3, 4, 5, 6, 7, 8, 9, 10]\n",
    "\n",
    "A, B = (2 * math.sqrt(2), 4)\n",
    "\n",
    "print(f\"n = {1}   {A:.8f} < π < {B:.8f}    誤差 : {B - A:.8f}\")\n",
    "\n",
    "for i in range(1, print_times[-1] + 1):\n",
    "    A, B = _next_num(A, B)\n",
    "    if i in print_times:\n",
    "        print(f\"n = {i+1}   {A:.8f} < π < {B:.8f}    誤差 : {B - A:.8f}\")"
   ]
  },
  {
   "cell_type": "markdown",
   "metadata": {},
   "source": [
    "相加平均、相乗平均の場合と全く同じ結果になりました。実は $a_n = \\frac{1}{A_n}$, $b_n = \\frac{1}{B_n}$ とおくと、二つの方法が全く同じものであることがわかります。"
   ]
  },
  {
   "cell_type": "code",
   "execution_count": null,
   "metadata": {},
   "outputs": [],
   "source": []
  }
 ],
 "metadata": {
  "kernelspec": {
   "display_name": "Python 3",
   "language": "python",
   "name": "python3"
  },
  "language_info": {
   "codemirror_mode": {
    "name": "ipython",
    "version": 3
   },
   "file_extension": ".py",
   "mimetype": "text/x-python",
   "name": "python",
   "nbconvert_exporter": "python",
   "pygments_lexer": "ipython3",
   "version": "3.7.3"
  }
 },
 "nbformat": 4,
 "nbformat_minor": 2
}
