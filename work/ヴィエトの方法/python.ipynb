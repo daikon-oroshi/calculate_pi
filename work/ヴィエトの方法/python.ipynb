{
 "cells": [
  {
   "cell_type": "markdown",
   "metadata": {},
   "source": [
    "# ヴィエトの円周率の公式で円周率を計算する"
   ]
  },
  {
   "cell_type": "code",
   "execution_count": null,
   "metadata": {},
   "outputs": [],
   "source": []
  },
  {
   "cell_type": "markdown",
   "metadata": {},
   "source": [
    "ヴィエトは以下の円周率の公式 (に準ずるもの) を発見しました\n",
    "\n",
    "$$\\frac{2}{\\pi} = \\sqrt{\\frac{1}{2}} \\sqrt{ \\frac{1}{2} + \\frac{1}{2}\\sqrt{\\frac{1}{2}} } \\sqrt { \\frac{1}{2} +\\frac{1}{2}\\sqrt{\\frac{1}{2} + \\frac{1}{2}\\sqrt{\\frac{1}{2}} }} \\cdots $$\n",
    "\n",
    "これは、\n",
    "\n",
    "$$a_1 = \\sqrt{\\frac{1}{2}},\\ a_{n+1} = \\sqrt{\\frac{1}{2} + \\frac{1}{2}a_n}$$\n",
    "\n",
    "とおいたとき\n",
    "\n",
    "$$\\frac{2}{\\pi} = \\lim_{n \\to \\infty} a_1 a_2 \\cdots a_n$$\n",
    "\n",
    "と表すことができます。これで計算してみましょう。"
   ]
  },
  {
   "cell_type": "code",
   "execution_count": 1,
   "metadata": {},
   "outputs": [],
   "source": [
    "from typing import Generator, Union\n",
    "import math\n",
    "\n",
    "def viete_seq() -> Generator[Union[float, int], None, None]:\n",
    "    init = math.sqrt(1 / 2)\n",
    "    n = 1\n",
    "    a = init\n",
    "    while True:\n",
    "        yield (a, n)\n",
    "        a = math.sqrt((1 + a ) / 2)\n",
    "        n = n + 1"
   ]
  },
  {
   "cell_type": "code",
   "execution_count": 21,
   "metadata": {},
   "outputs": [
    {
     "name": "stdout",
     "output_type": "stream",
     "text": [
      "n = 1\t 2.82842712\n",
      "n = 2\t 3.06146746\n",
      "n = 3\t 3.12144515\n",
      "n = 4\t 3.13654849\n",
      "n = 5\t 3.14033116\n",
      "n = 6\t 3.14127725\n",
      "n = 7\t 3.14151380\n",
      "n = 8\t 3.14157294\n",
      "n = 9\t 3.14158773\n",
      "n = 10\t 3.14159142\n",
      "\n",
      "π = 3.1415926535...\n"
     ]
    }
   ],
   "source": [
    "vseq = viete_seq()\n",
    "p = 1\n",
    "\n",
    "for n in range(0, 10):\n",
    "    (a, _) = next(vseq)\n",
    "    p = p * a\n",
    "    print(f\"n = {n+1}\\t {2 / p:.8f}\")\n",
    "\n",
    "print(\"\")\n",
    "print(\"π = 3.1415926535...\")"
   ]
  },
  {
   "cell_type": "markdown",
   "metadata": {},
   "source": [
    "## 外接円のヴィエト風の公式\n",
    "\n",
    "実はヴィエトの公式は、アルキメデスの内接円の方法から導くことができます。計算効率もアルキメデスの方法と同じです。それでは、アルキメデスの外接円の方法からヴィエト風の公式が導けないでしょうか。\n",
    "\n",
    "$$b_1 = \\frac{1}{2} + \\frac{1}{2} \\sqrt{2},\\ b_{n+1} = \\frac{1}{2} + \\frac{1}{2} \\sqrt{2 -\\frac{1}{b_n}}$$\n",
    "\n",
    "\n",
    "とおくと\n",
    "\n",
    "$$\\frac{4}{\\pi} = b_1 b_2 \\cdots b_n \\cdots$$\n",
    "\n",
    "が成り立ちます。展開すると\n",
    "\n",
    "$$\\frac{4}{\\pi} = \\left(\\frac{1}{2} + \\frac{\\sqrt{2}}{2}\\right) \\left(\\frac{1}{2} + \\frac{1}{2} \\sqrt{2 -\\frac{1}{\\frac{1}{2} + \\frac{\\sqrt{2}}{2}}}\\right)\\left(\\frac{1}{2} + \\frac{1}{2} \\sqrt{2 -\\frac{1}{\\frac{1}{2} + \\frac{1}{2} \\sqrt{2 -\\frac{1}{\\frac{1}{2} + \\frac{\\sqrt{2}}{2}}}}}\\right) \\cdots$$\n",
    "\n",
    "となり、あまり綺麗な式にはなりません。"
   ]
  },
  {
   "cell_type": "code",
   "execution_count": 19,
   "metadata": {},
   "outputs": [],
   "source": [
    "from typing import Generator, Union\n",
    "import math\n",
    "\n",
    "def viete_seq_2() -> Generator[Union[float, int], None, None]:\n",
    "    init = (1 + math.sqrt(2)) / 2\n",
    "    n = 2\n",
    "    b = init\n",
    "    while True:\n",
    "        yield (b, n)\n",
    "        b = (1 + math.sqrt(2 - (1 /b)) )/ 2\n",
    "        n = n + 1"
   ]
  },
  {
   "cell_type": "code",
   "execution_count": 22,
   "metadata": {},
   "outputs": [
    {
     "name": "stdout",
     "output_type": "stream",
     "text": [
      "n = 1\t 3.31370850\n",
      "n = 2\t 3.18259788\n",
      "n = 3\t 3.15172491\n",
      "n = 4\t 3.14411839\n",
      "n = 5\t 3.14222363\n",
      "n = 6\t 3.14175037\n",
      "n = 7\t 3.14163208\n",
      "n = 8\t 3.14160251\n",
      "n = 9\t 3.14159512\n",
      "n = 10\t 3.14159327\n",
      "\n",
      "π = 3.1415926535...\n"
     ]
    }
   ],
   "source": [
    "vseq_2 = viete_seq_2()\n",
    "q = 1\n",
    "\n",
    "for n in range(0, 10):\n",
    "    (b, _) = next(vseq_2)\n",
    "    q = q * b\n",
    "    print(f\"n = {n+1}\\t {4 / q:.8f}\")\n",
    "\n",
    "print(\"\")\n",
    "print(\"π = 3.1415926535...\")"
   ]
  },
  {
   "cell_type": "code",
   "execution_count": null,
   "metadata": {},
   "outputs": [],
   "source": []
  }
 ],
 "metadata": {
  "kernelspec": {
   "display_name": "Python 3",
   "language": "python",
   "name": "python3"
  },
  "language_info": {
   "codemirror_mode": {
    "name": "ipython",
    "version": 3
   },
   "file_extension": ".py",
   "mimetype": "text/x-python",
   "name": "python",
   "nbconvert_exporter": "python",
   "pygments_lexer": "ipython3",
   "version": "3.7.3"
  }
 },
 "nbformat": 4,
 "nbformat_minor": 2
}
