{
 "cells": [
  {
   "cell_type": "markdown",
   "metadata": {},
   "source": [
    "# サイコロを振って円周率を求める"
   ]
  },
  {
   "cell_type": "markdown",
   "metadata": {},
   "source": [
    "サイコロを投げて出る目の値を $X$ とおく。1〜6 の値が等確率 $\\frac{1}{6}$ で出るとする。このとき、$X$ の平均は $3.5$, 分散は $\\frac{35}{12}$ である。$\\mu = 3.5$, $\\sigma = \\sqrt{\\frac{35}{12}}$ とおく。\n",
    "\n",
    "サイコロを $n$ 回振ったときの出た目の合計を $S_n$ とおくと、中心極限定理から、任意の $\\alpha < \\beta$ に対して\n",
    "\n",
    "$$\n",
    "P\\left(\\alpha < \\frac{S_n - n\\mu}{\\sigma \\sqrt{n} } < \\beta\\right) = \\int^{\\beta}_{\\alpha} \\frac{1}{\\sqrt{2 \\pi}} e^{-\\frac{x^2}{2}}\n",
    "$$\n",
    "\n",
    "が成り立つ。ここで、左辺は $\\alpha < \\frac{S_n - n\\mu}{\\sigma \\sqrt{n} } < \\beta$ となる確率を表す。\n",
    "\n",
    "これを用いて円周率 $\\pi$ の値を求める。"
   ]
  },
  {
   "cell_type": "code",
   "execution_count": 7,
   "metadata": {},
   "outputs": [],
   "source": [
    "from statistics import mean\n",
    "import numpy as np\n",
    "import math\n",
    "\n",
    "\n",
    "# サイコロ投げの平均\n",
    "MEAN = 3.5\n",
    "# サイコロ投げの分散\n",
    "VARIANCE = 35/12\n",
    "\n",
    "def roll_dice() -> int:\n",
    "    # 1 ~ 6 の数字をランダムに生成\n",
    "    return np.random.randint(1, 7)\n",
    "\n",
    "\n",
    "def sum_of_dice(times: int) -> float:\n",
    "    #  times 回投げたサイコロの目の合計値を取得\n",
    "    if times < 1:\n",
    "        raise ValueError()\n",
    "    dice_values = [roll_dice() for i in range(times)]\n",
    "    return sum(dice_values)\n",
    "\n",
    "\n",
    "def normalize(_sum: float, times: int) -> float:\n",
    "    return (_sum - times * MEAN) / math.sqrt(times * VARIANCE)"
   ]
  },
  {
   "cell_type": "markdown",
   "metadata": {},
   "source": [
    "ここで $\\alpha = \\beta = \\frac{1}{2 \\sigma\\sqrt{n}}$ とおくと、$n$ が十分大きいと仮定すれば\n",
    "\n",
    "$$\n",
    "\\int^{\\beta}_{\\alpha} \\frac{1}{\\sqrt{2 \\pi}} e^{-\\frac{x^2}{2}} \\fallingdotseq \\frac{1}{\\sqrt{2 \\pi}} e^{-\\frac{0^2}{2}} \\times \\frac{1}{ \\sigma\\sqrt{n}} = \\frac{1}{\\sigma \\sqrt{2 \\pi n}} \n",
    "$$\n",
    "\n",
    "が成り立つ。また、$S_n - n\\mu$ の取りうる値は、$n$ が偶数ならば整数値である。よって $\\frac{S_n - n\\mu}{\\sigma \\sqrt{n}}$ の取りうる値は \n",
    "\n",
    "$$\n",
    "\\cdots, \\ -\\frac{2}{\\sigma \\sqrt{n}},\\ -\\frac{1}{\\sigma \\sqrt{n}},\\ 0, \\ \\frac{1}{\\sigma \\sqrt{n}},\\ \\frac{2}{\\sigma \\sqrt{n}}, \\ \\cdots\n",
    "$$\n",
    "\n",
    "となる。従って\n",
    "\n",
    "$$\n",
    "P\\left(-\\frac{1}{2 \\sigma\\sqrt{n}} \\leq \\frac{S_n - n \\mu}{\\sigma \\sqrt{n} } < \\frac{1}{2 \\sigma\\sqrt{n}} \\right) = P\\left(\\frac{S_n - n\\mu}{ \\sigma\\sqrt{n} } = 0 \\right)\n",
    "$$\n",
    "\n",
    "となる。中心極限定理から\n",
    "\n",
    "$$\n",
    "P\\left(S_n = n \\mu \\right) = P\\left(\\frac{S_n - n\\mu}{ \\sigma\\sqrt{n} } = 0 \\right) \\fallingdotseq \\frac{1}{\\sigma \\sqrt{2 \\pi n}} \n",
    "$$\n",
    "\n",
    "が成り立つ。\n",
    "\n",
    "よってサイコロを $n$ 回振る試行を $M$ 回行い、$S_n = n\\mu$ となる回数を $m$ とすれば、\n",
    "\n",
    "$$\n",
    "\\frac{m}{M} \\fallingdotseq \\frac{1}{\\sigma \\sqrt{2 \\pi n}} \n",
    "$$\n",
    "\n",
    "なので、\n",
    "\n",
    "$$\n",
    "\\pi \\fallingdotseq \\frac{M^2}{2 n m^2 \\sigma^2} = \\frac{6 M^2}{35n m^2}\n",
    "$$\n",
    "\n",
    "となる。"
   ]
  },
  {
   "cell_type": "code",
   "execution_count": 19,
   "metadata": {},
   "outputs": [],
   "source": [
    "# 1セット当たりのサイコロを振る回数\n",
    "DICE_ROLLS_PER_SET = 300\n",
    "# セット数\n",
    "NUMBER_OF_SET = 20000"
   ]
  },
  {
   "cell_type": "code",
   "execution_count": 21,
   "metadata": {},
   "outputs": [
    {
     "name": "stdout",
     "output_type": "stream",
     "text": [
      "円周率\n",
      "1 回目:  2.5228356041481725\n",
      "2 回目:  3.044533919913535\n",
      "3 回目:  3.3298092851731917\n",
      "4 回目:  3.254844123480649\n",
      "5 回目:  2.8947382704300675\n",
      "6 回目:  2.644400811831049\n",
      "7 回目:  3.657142857142857\n",
      "8 回目:  2.7178528962119923\n",
      "9 回目:  3.182382331413296\n",
      "10 回目:  3.3298092851731917\n"
     ]
    }
   ],
   "source": [
    "from typing import List\n",
    "\n",
    "def sample_normalized_values() -> List[float]:\n",
    "    return  [\n",
    "        normalize(\n",
    "            sum_of_dice(DICE_ROLLS_PER_SET),\n",
    "            DICE_ROLLS_PER_SET\n",
    "        )\n",
    "        for _ in range(NUMBER_OF_SET)\n",
    "    ]\n",
    "    \n",
    "\n",
    "def calc_pi():\n",
    "    values = sample_normalized_values()\n",
    "\n",
    "    m = len([v for v in values if abs(v) == 0]) \n",
    "    return (NUMBER_OF_SET * NUMBER_OF_SET) / (2 * DICE_ROLLS_PER_SET * m * m * VARIANCE)\n",
    "\n",
    "\n",
    "print(\"円周率\")\n",
    "for i in range(10):\n",
    "    pi = calc_pi()\n",
    "    print(f\"{i + 1} 回目:  {pi}\")"
   ]
  },
  {
   "cell_type": "markdown",
   "metadata": {},
   "source": [
    "## より精度の良い方法"
   ]
  },
  {
   "cell_type": "markdown",
   "metadata": {},
   "source": [
    "この方法は $S_n$ が $n \\mu$ に一致する場合回数しか用いていないので、精度が良くない。他の情報も用いることで、精度を上げる。\n",
    "具体的には以下の通り。\n",
    "\n",
    "$\\frac{1}{\\sqrt{2\\pi}}$ をパラメータ $C$ に置き換えて、$\\frac{S_n - n \\mu}{\\sigma \\sqrt{n}}$ の確率分布が $C e^{-\\frac{x^2}{2}}$ に従っていると仮定し、サンプル値と $C e^{-\\frac{x^2}{2}}$　の値の誤差の2乗和が最小になる $C$ を求める。\n",
    "\n",
    "$\\frac{S_n - n\\mu}{\\sigma \\sqrt{n}}$ の取りうる値は $\\cdots, \\ -\\frac{1}{\\sigma \\sqrt{n}},\\ 0, \\ \\frac{1}{\\sigma \\sqrt{n}}, \\ \\cdots$ であり、任意の整数 $i \\in \\mathrm{Z}$ に対して\n",
    "\n",
    "$$\n",
    "\\begin{align}\n",
    "P\\left(\\frac{2i - 1}{2 \\sigma\\sqrt{n}} \\leq \\frac{S_n - n \\mu}{\\sigma \\sqrt{n} } < \\frac{2i +1}{2 \\sigma\\sqrt{n}} \\right) \n",
    "&= P\\left(\\frac{S_n - n\\mu}{ \\sigma\\sqrt{n} } = \\frac{i}{\\sigma\\sqrt{n}} \\right) \\\\\n",
    "&= P\\left(S_n - n\\mu = i \\right)\n",
    "\\end{align}\n",
    "$$\n",
    "\n",
    "である。\n",
    "\n",
    "$$\n",
    "\\begin{align}\n",
    "x_i &= \\frac{i}{\\sigma\\sqrt{n}}, \\\\\n",
    "y_i &= P\\left(S_n - n\\mu = i \\right)\n",
    "\\end{align}\n",
    "$$\n",
    "\n",
    "とおくと、各 $i$ での誤差はおおよそ\n",
    "\n",
    "$$\n",
    "y_i - C e^{-\\frac{x_i^2}{2}} \\times \\frac{1}{ \\sigma\\sqrt{n}}\n",
    "$$\n",
    "\n",
    "で与えられる。$n$ を偶数とし、この2乗和を\n",
    "\n",
    "$$\n",
    "E(C) = \\sum_{i = -(6 -\\mu)n}^{(6 -\\mu)n} \\left(y_i -\\frac{C}{ \\sigma\\sqrt{n}} e^{-\\frac{x_i^2}{2}}\\right)^2\n",
    "$$\n",
    "\n",
    "とおくと、$E(C)$ は $C$ に関する２次関数で、$C^2$ の係数が正なので、$E(C)^{\\prime} = 0$ となる $C$ で最小値をとる。ここで\n",
    "\n",
    "$$\n",
    "\\begin{align}\n",
    "& E(C)^{\\prime} = 0 \\\\\n",
    "\\Leftrightarrow \\quad  & \\sum_{i = -(6 -\\mu)n}^{(6 -\\mu)n} -\\frac{2}{ \\sigma\\sqrt{n}} e^{-\\frac{x_i^2}{2}}\\left(y_i -\\frac{C}{ \\sigma\\sqrt{n}} e^{-\\frac{x_i^2}{2}}\\right) = 0 \\\\\n",
    "\\Leftrightarrow \\quad & C = \\sigma\\sqrt{n}\\frac{\\sum_{i = -(6 -\\mu)n}^{(6 -\\mu)n} y_i e^{-\\frac{x_i^2}{2}} }{\\sum_{i = -(6 -\\mu)n}^{(6 -\\mu)n} e^{-x_i^2} }\n",
    "\\end{align}\n",
    "$$\n",
    "\n",
    "となり、$C$ が求まる。$C = \\frac{1}{\\sqrt{2 \\pi}}$ だったので\n",
    "\n",
    "$$\n",
    "\\pi = \\frac{1}{2 C^2}\n",
    "$$\n",
    "\n",
    "により円周率がもとまる。"
   ]
  },
  {
   "cell_type": "code",
   "execution_count": 13,
   "metadata": {},
   "outputs": [
    {
     "data": {
      "text/plain": [
       "[<matplotlib.lines.Line2D at 0x7f2f25ca2908>]"
      ]
     },
     "execution_count": 13,
     "metadata": {},
     "output_type": "execute_result"
    },
    {
     "data": {
      "image/png": "[encoded data removed]",
      "text/plain": [
       "<Figure size 432x288 with 1 Axes>"
      ]
     },
     "metadata": {
      "needs_background": "light"
     },
     "output_type": "display_data"
    },
    {
     "data": {
      "image/png": "[encoded data removed]",
      "text/plain": [
       "<Figure size 432x288 with 1 Axes>"
      ]
     },
     "metadata": {
      "needs_background": "light"
     },
     "output_type": "display_data"
    }
   ],
   "source": [
    "%matplotlib inline\n",
    "import matplotlib.pyplot as plt\n",
    "from scipy.stats import norm\n",
    "\n",
    "# 1セット当たりのサイコロを振る回数\n",
    "DICE_ROLLS_PER_SET = 200\n",
    "# セット数\n",
    "NUMBER_OF_SET = 30000\n",
    "\n",
    "BINS = 40\n",
    "\n",
    "sums =  [\n",
    "    sum_of_dice(DICE_ROLLS_PER_SET)\n",
    "    for _ in range(NUMBER_OF_SET)\n",
    "]\n",
    "\n",
    "plt.figure(0)\n",
    "plt.hist(sums, bins=BINS)\n",
    "\n",
    "plt.figure(1)\n",
    "\n",
    "normalized = [normalize(v, DICE_ROLLS_PER_SET) for v in sums]\n",
    "\n",
    "plt.hist(\n",
    "    normalized,\n",
    "    bins=BINS, \n",
    "    density=True\n",
    ")\n",
    "\n",
    "X = np.arange(-4, 4, 0.01)\n",
    "Y = norm.pdf(X, 0, 1)\n",
    "plt.plot(X, Y)"
   ]
  },
  {
   "cell_type": "code",
   "execution_count": 14,
   "metadata": {},
   "outputs": [
    {
     "name": "stdout",
     "output_type": "stream",
     "text": [
      "円周率\n",
      "1 回目: 3.1123013475171137\n",
      "2 回目: 3.1514704270952016\n",
      "3 回目: 3.1378520227629014\n",
      "4 回目: 3.158955415759024\n",
      "5 回目: 3.1460045794689\n"
     ]
    }
   ],
   "source": [
    "FACTOR = math.sqrt(DICE_ROLLS_PER_SET * VARIANCE)\n",
    "\n",
    "def count_pi2():\n",
    "    sums =  [\n",
    "        sum_of_dice(DICE_ROLLS_PER_SET)\n",
    "        for _ in range(NUMBER_OF_SET)\n",
    "    ]\n",
    "\n",
    "    counts = {0: 0}\n",
    "    for i in range(1, int(6 -MEAN) * DICE_ROLLS_PER_SET + 1):\n",
    "        counts[i] = 0\n",
    "        counts[-i] = 0\n",
    "    \n",
    "    for s in sums:\n",
    "        _s = s - MEAN * DICE_ROLLS_PER_SET\n",
    "        counts[_s] = counts[_s] + 1\n",
    "    \n",
    "    # 分母\n",
    "    denom = 0\n",
    "    # 分子\n",
    "    numer = 0\n",
    "\n",
    "    for k, v in counts.items():\n",
    "        x = k / FACTOR\n",
    "        denom = denom + math.exp(- (x ** 2))\n",
    "        numer = numer + (v / NUMBER_OF_SET) * math.exp(- (x ** 2) / 2) \n",
    "\n",
    "    C = FACTOR * (numer / denom)\n",
    "\n",
    "    pi = 1 / (2 * (C **2))\n",
    "    return pi\n",
    "    \n",
    "print(\"円周率\")\n",
    "\n",
    "for i in range(5):\n",
    "    pi = count_pi2()\n",
    "    print(f\"{i+1} 回目: {pi}\")\n"
   ]
  },
  {
   "cell_type": "code",
   "execution_count": null,
   "metadata": {},
   "outputs": [],
   "source": []
  }
 ],
 "metadata": {
  "kernelspec": {
   "display_name": "Python 3",
   "language": "python",
   "name": "python3"
  },
  "language_info": {
   "codemirror_mode": {
    "name": "ipython",
    "version": 3
   },
   "file_extension": ".py",
   "mimetype": "text/x-python",
   "name": "python",
   "nbconvert_exporter": "python",
   "pygments_lexer": "ipython3",
   "version": "3.7.3"
  }
 },
 "nbformat": 4,
 "nbformat_minor": 2
}
