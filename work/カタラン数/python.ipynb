{
 "cells": [
  {
   "cell_type": "markdown",
   "metadata": {},
   "source": [
    "# カタラン数から円周率を求める"
   ]
  },
  {
   "cell_type": "markdown",
   "metadata": {},
   "source": [
    "カタラン数とは、整数 $n \\geq 0$ に対して定まる自然数 $C_n$ であって\n",
    "\n",
    "$$C_0 = 1, \\quad C_n = \\sum_{k=1}^{n} C_{k-1} C_{n-k}$$\n",
    "\n",
    "を満たすもののことです。例えば\n",
    "\n",
    "$$\\begin{align*}\n",
    "C_1 &= C_0 C_0 = 1, \\\\\n",
    "C_2 &= C_0C_1 + C_1C_0 = 2,\\\\\n",
    "C_3 &= C_0 C_2 + C_1C_1+ C_2 C_0 = 5\n",
    "\\end{align*}$$\n",
    "\n",
    "です。カタラン数は\n",
    "\n",
    "$$\\pi = \\lim_{n \\to \\infty} \\frac{16^{n}}{n^3C_n^2}$$\n",
    "\n",
    "を満たします。これを計算してみましょう。"
   ]
  },
  {
   "cell_type": "code",
   "execution_count": 3,
   "metadata": {},
   "outputs": [
    {
     "name": "stdout",
     "output_type": "stream",
     "text": [
      "n = 10     \t 16796\n",
      "n = 100    \t 896519947090131496687170070074100632420837521538745909320\n",
      "n = 1000   \t 2046105521468021692642519982997827217179245642339057975844538099572176010191891863964968026156453752449015750569428595097318163634370154637380666882886375203359653243390929717431080443509007504772912973142253209352126946839844796747697638537600100637918819326569730982083021538057087711176285777909275869648636874856805956580057673173655666887003493944650164153396910927037406301799052584663611016897272893305532116292143271037140718751625839812072682464343153792956281748582435751481498598087586998603921577523657477775758899987954012641033870640665444651660246024318184109046864244732001962029120\n"
     ]
    }
   ],
   "source": [
    "from functools import lru_cache\n",
    "\n",
    "@lru_cache(maxsize=10**3*5)\n",
    "def catalan(n: int) -> int:\n",
    "    if n == 0:\n",
    "        return 1\n",
    "    else:\n",
    "        l_ = [catalan(k-1) for k in range(1, n+1)]\n",
    "        return sum([\n",
    "            c * cr for (c, cr) in zip(l_, reversed(l_))\n",
    "        ])\n",
    "\n",
    "    \n",
    "def calc_pi_1(n: int) -> float:\n",
    "    return (4 ** (2 * n)) / (n ** 3 * catalan(n) ** 2)\n",
    "\n",
    "def calc_pi_2(n: int, catalan_num: int) -> float:\n",
    "    return (4 ** (2 * n)) / (n ** 3 * catalan_num ** 2)\n",
    "\n",
    "for n in [10, 10 **2, 10 ** 3]:\n",
    "    print(f\"n = {n: <6} \\t {catalan(n)}\")"
   ]
  },
  {
   "cell_type": "code",
   "execution_count": 4,
   "metadata": {},
   "outputs": [
    {
     "name": "stdout",
     "output_type": "stream",
     "text": [
      "n = 10     \t \u001b[31m3.\u001b[0m8975176863405654\n",
      "n = 100    \t \u001b[31m3.\u001b[0m2127605022857373\n",
      "n = 1000   \t \u001b[31m3.14\u001b[0m86660485813665\n",
      "n = 5000   \t \u001b[31m3.14\u001b[0m30065627141164\n"
     ]
    }
   ],
   "source": [
    "import sys\n",
    "sys.path.append('/home/jovyan/work/')\n",
    "from lib.utils import color_pi, PI_50\n",
    "\n",
    "\n",
    "for n in [10, 10**2, 10**3, 10**3 * 5]:\n",
    "    print(f\"n = {n: <6} \\t {color_pi(str(calc_pi_1(n)), PI_50)}\")"
   ]
  },
  {
   "cell_type": "markdown",
   "metadata": {},
   "source": [
    "## 円周率の計算の精密化"
   ]
  },
  {
   "cell_type": "markdown",
   "metadata": {},
   "source": [
    "カタラン数 $C_n$ は\n",
    "\n",
    "$$C_n = \\frac{1}{n+1} \\binom{2n}{n}$$\n",
    "\n",
    "が成り立つことが知られています。　これとウォリスの公式\n",
    "\n",
    "$$\\begin{gather*}\n",
    "W_n = \\frac{(2n)!!^2}{(2n-1)!!(2n+1)!!} \\\\\n",
    "2 W_n \\leq \\pi \\leq \\frac{2n+1}{n} W_n \\\\\n",
    "\\lim_{n\\to\\infty} W_n = \\frac{\\pi}{2}\n",
    "\\end{gather*}$$\n",
    "\n",
    "を合わせて円周率の計算を精密化します。カタラン数を計算すると\n",
    "\n",
    "$$\\begin{align}\n",
    "C_n &= \\frac{1}{n+1} \\binom{2n}{n} = \\frac{1}{n+1} \\frac{(2n)!}{n! n!} = \\frac{1}{n+1} \\frac{(2n-1)!! (2n)!!}{n! n!} \\\\\n",
    "&= \\frac{1}{n+1} \\frac{(2n-1)!! (2^n n!)}{n! n!} = \\frac{4^{n}}{n+1} \\frac{(2n-1)!!}{(2n)!!} \\\\\n",
    "&= \\frac{4^{n}}{n+1} \\sqrt{\\frac{1}{\\frac{(2n)!!^2}{(2n-1)!!^2 (2n+1)}(2n+1)}} \\\\\n",
    "&= \\frac{4^{n}}{(n+1)\\sqrt{2n+1}} \\frac{1}{\\sqrt{W_n}}\n",
    "\\end{align}\n",
    "$$\n",
    "\n",
    "となります。ウォリスの公式から\n",
    "\n",
    "$$\\begin{align}\n",
    "\\frac{2 \\cdot 16^n}{(n+1)^2(2n+1)C_n^2} \\leq \\pi & \\leq \\frac{2n+1}{n} \\frac{16^n}{(n+1)^2(2n+1)C_n^2} \\\\\n",
    "& = \\frac{16^n}{n(n+1)^2C_n^2} \n",
    "\\end{align}\n",
    "$$\n",
    "\n",
    "となり、円周率を上下から評価できます。覚えにくいので、$\\frac{2}{2n+1} > \\frac{1}{n+1}$, $\\frac{1}{n + 1} < \\frac{1}{n}$ を用いて\n",
    "\n",
    "$$\\begin{align}\n",
    "\\frac{16^n}{(n+1)^3C_n^2} \\leq \\frac{2 \\cdot 16^n}{(n+1)^2(2n+1)C_n^2} \\leq \\pi \\leq \\frac{16^n}{n(n+1)^2C_n^2}  \\leq \\frac{16^n}{n^3C_n^2} \n",
    "\\end{align}\n",
    "$$\n",
    "\n",
    "とすると、収束は少し遅くなりますがすっきりします。\n",
    "\n",
    "また、カタラン数を定義通りの漸化式を用いて計算すると計算リソースを多く必要としますが、\n",
    "\n",
    "$$a_n = \\frac{16^n}{\\binom{2n}{n}^2}$$\n",
    "\n",
    "とおけば、\n",
    "\n",
    "$$\\frac{2}{2n+1} a_n \\leq \\pi \\leq \\frac{1}{n}a_n$$\n",
    "\n",
    "であり、$a_1 = 4$ かつ\n",
    "\n",
    "$$\\begin{align*}\n",
    "a_{n+1} &= \\frac{16^{n+1}}{\\binom{2n + 2}{n + 1}^2} \\\\\n",
    "&= 16 \\cdot 16^n \\cdot \\frac{(n+1)!^4}{(2n+2)!^2} \\\\\n",
    "&= 16^n \\cdot \\frac{n!^4}{(2n)!^2} \\cdot 16 \\cdot \\frac{(n+1)^4}{(2n+2)^2(2n+1)^2} \\\\\n",
    "&= a_n \\cdot \\frac{4(n+1)^2}{(2n+1)^2} \\\\\n",
    "&= a_n \\left(1 +\\frac{1}{2n+1}\\right)^2\n",
    "\\end{align*}$$\n",
    "\n",
    "により $a_n$ を計算することができます。こちらの方が桁が大きくなりすぎず、計算しやすいです。"
   ]
  },
  {
   "cell_type": "code",
   "execution_count": 5,
   "metadata": {},
   "outputs": [],
   "source": [
    "from typing import Generator, Tuple\n",
    "import mpmath\n",
    "\n",
    "def an_() -> Generator[Tuple[float, int], None, None]:\n",
    "    n = 1\n",
    "    val = mpmath.mpf(4)\n",
    "    \n",
    "    while True:\n",
    "        yield val, n\n",
    "        val = val * (1 + 1 /(2 * n+1)) ** 2\n",
    "        n = n + 1"
   ]
  },
  {
   "cell_type": "markdown",
   "metadata": {},
   "source": [
    "$$\\frac{2 a_n}{2n+1} = \\frac{2 \\cdot 16^n}{(n+1)^2(2n+1)C_n^2} \\leq \\pi \\leq \\frac{16^n}{n(n+1)^2C_n^2} = \\frac{a_n}{n} $$"
   ]
  },
  {
   "cell_type": "code",
   "execution_count": 6,
   "metadata": {},
   "outputs": [
    {
     "name": "stdout",
     "output_type": "stream",
     "text": [
      "n = 10             \t \u001b[31m3.\u001b[0m067703807 ≦ π ≦ \u001b[31m3.\u001b[0m221088997\n",
      "n = 100            \t \u001b[31m3.1\u001b[0m33787491 ≦ π ≦ \u001b[31m3.14\u001b[0m9456428\n",
      "n = 1000           \t \u001b[31m3.14\u001b[0m0807746 ≦ π ≦ \u001b[31m3.14\u001b[0m2378150\n",
      "n = 10000          \t \u001b[31m3.1415\u001b[0m14119 ≦ π ≦ \u001b[31m3.141\u001b[0m671194\n",
      "n = 100000         \t \u001b[31m3.1415\u001b[0m84800 ≦ π ≦ \u001b[31m3.141\u001b[0m600508\n",
      "n = 1000000        \t \u001b[31m3.14159\u001b[0m1868 ≦ π ≦ \u001b[31m3.14159\u001b[0m3439\n"
     ]
    }
   ],
   "source": [
    "DPS = 25\n",
    "mpmath.mp.dps = DPS\n",
    "\n",
    "an = an_()\n",
    "\n",
    "\n",
    "print_time = [10, 10 ** 2, 10**3, 10 ** 4, 10 ** 5, 10 ** 6]\n",
    "for val, n in an:\n",
    "    if n in print_time:\n",
    "        low_pi = 2 * val / (2 * n + 1)\n",
    "        up_pi = val / n\n",
    "        \n",
    "        low_str = mpmath.nstr(low_pi, 10, strip_zeros=False)\n",
    "        up_str = mpmath.nstr(up_pi, 10, strip_zeros=False)\n",
    "        \n",
    "        print(f\"n = {n: <14} \\t {color_pi(low_str, PI_50)} ≦ π ≦ {color_pi(up_str, PI_50)}\")\n",
    "    if n > print_time[-1]:\n",
    "        break"
   ]
  },
  {
   "cell_type": "markdown",
   "metadata": {},
   "source": [
    "$$\\frac{a_n}{n+1}= \\frac{16^n}{(n+1)^3C_n^2} \\leq \\pi \\leq \\frac{16^n}{n^3C_n^2} = \\left(\\frac{n+1}{n}\\right)^2 \\frac{a_n}{n} $$"
   ]
  },
  {
   "cell_type": "code",
   "execution_count": 7,
   "metadata": {},
   "outputs": [
    {
     "name": "stdout",
     "output_type": "stream",
     "text": [
      "n = 10             \t \u001b[31m\u001b[0m2.928262725 ≦ π ≦ \u001b[31m3.\u001b[0m897517686\n",
      "n = 100            \t \u001b[31m3.1\u001b[0m18273691 ≦ π ≦ \u001b[31m3.\u001b[0m212760502\n",
      "n = 1000           \t \u001b[31m3.1\u001b[0m39238911 ≦ π ≦ \u001b[31m3.14\u001b[0m8666049\n",
      "n = 10000          \t \u001b[31m3.141\u001b[0m357059 ≦ π ≦ \u001b[31m3.14\u001b[0m2299560\n",
      "n = 100000         \t \u001b[31m3.1415\u001b[0m69092 ≦ π ≦ \u001b[31m3.141\u001b[0m663340\n",
      "n = 1000000        \t \u001b[31m3.14159\u001b[0m0297 ≦ π ≦ \u001b[31m3.14159\u001b[0m9722\n"
     ]
    }
   ],
   "source": [
    "DPS = 25\n",
    "mpmath.mp.dps = DPS\n",
    "\n",
    "an = an_()\n",
    "\n",
    "\n",
    "print_time = [10, 10 ** 2, 10**3, 10 ** 4, 10 ** 5, 10 ** 6]\n",
    "for val, n in an:\n",
    "    if n in print_time:\n",
    "        low_pi = val / (n+1)\n",
    "        up_pi = ((n+1)/n) **2 * val / n\n",
    "        \n",
    "        low_str = mpmath.nstr(low_pi, 10, strip_zeros=False)\n",
    "        up_str = mpmath.nstr(up_pi, 10, strip_zeros=False)\n",
    "        \n",
    "        print(f\"n = {n: <14} \\t {color_pi(low_str, PI_50)} ≦ π ≦ {color_pi(up_str, PI_50)}\")\n",
    "    if n > print_time[-1]:\n",
    "        break"
   ]
  }
 ],
 "metadata": {
  "kernelspec": {
   "display_name": "Python 3 (ipykernel)",
   "language": "python",
   "name": "python3"
  },
  "language_info": {
   "codemirror_mode": {
    "name": "ipython",
    "version": 3
   },
   "file_extension": ".py",
   "mimetype": "text/x-python",
   "name": "python",
   "nbconvert_exporter": "python",
   "pygments_lexer": "ipython3",
   "version": "3.11.6"
  }
 },
 "nbformat": 4,
 "nbformat_minor": 4
}
