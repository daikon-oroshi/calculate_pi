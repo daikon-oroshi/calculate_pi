{
 "cells": [
  {
   "cell_type": "markdown",
   "id": "0d5f7fc6-551c-4f66-8463-4d8d0b4d8565",
   "metadata": {},
   "source": [
    "# 中国最古の円周率の求め方"
   ]
  },
  {
   "cell_type": "markdown",
   "id": "9fd71286-82c7-4766-915f-745e0b549913",
   "metadata": {},
   "source": [
    "3世紀前半から中盤ごろ、劉徽という人物は内接正多角形の面積と、その各辺に長方形をつけた図形の面積と円の面積を比較することで、円周率を計算しました。以下の図のように、黄色い内接正多角形に、その外側赤いの部分と緑の部分を合わせた長方形をつけると、内接正多角形は円の面積より小さく、長方形をくっつけると円の面積より大きくなります。"
   ]
  },
  {
   "cell_type": "code",
   "execution_count": 23,
   "id": "614feaf6-686f-47fb-aa11-ecd73639f864",
   "metadata": {},
   "outputs": [
    {
     "data": {
      "text/html": [
       "<img src=\"https://upload.wikimedia.org/wikipedia/commons/3/34/Liuhui_Pi_Inequality.svg\" alt=\"wikimediaから引用\"/>"
      ],
      "text/plain": [
       "<IPython.core.display.HTML object>"
      ]
     },
     "execution_count": 23,
     "metadata": {},
     "output_type": "execute_result"
    }
   ],
   "source": [
    "from IPython.display import HTML\n",
    "HTML('<img src=\"https://upload.wikimedia.org/wikipedia/commons/3/34/Liuhui_Pi_Inequality.svg\" alt=\"wikimediaから引用\"/>')"
   ]
  },
  {
   "cell_type": "markdown",
   "id": "9606aab0-14e9-46e8-9bf3-5cad639e8a43",
   "metadata": {},
   "source": [
    "円の半径を $1$ とし、内接正 $n$ 角形の面積を $A_n$ とおきます。このとき、上の図の黄色い多角形が内接正 $n$ 角形だとすると、黄色い多角形と緑の部分を合わせたものは内接正 $2n$ 角形で、赤い部分と緑の部分の面積は等しいので、黄、赤、緑の部分を合わせた面積は\n",
    "\n",
    "$$A_{2n} + (A_{2n} -A_n) = 2A_{2n} -A_n$$\n",
    "\n",
    "となります。円の面積は $\\pi r^2 = \\pi$ なので\n",
    "\n",
    "$$A_{2n} < \\pi < 2A_{2n} -A_n$$\n",
    "\n",
    "という不等式が成り立ちます。よって円の内接正 $A_n$ 角形の面積を求められれば、円周率を求めることができます。"
   ]
  },
  {
   "cell_type": "code",
   "execution_count": 6,
   "id": "e49adebc-0c49-47cc-a4df-bfc626607e12",
   "metadata": {},
   "outputs": [
    {
     "data": {
      "text/html": [
       "<img src=\"https://upload.wikimedia.org/wikipedia/commons/4/46/Liuhui_geyuanshu.svg\"/>"
      ],
      "text/plain": [
       "<IPython.core.display.HTML object>"
      ]
     },
     "execution_count": 6,
     "metadata": {},
     "output_type": "execute_result"
    }
   ],
   "source": [
    "from IPython.display import HTML\n",
    "HTML('<img src=\"https://upload.wikimedia.org/wikipedia/commons/4/46/Liuhui_geyuanshu.svg\"/>')"
   ]
  },
  {
   "cell_type": "markdown",
   "id": "6d38f45b-4671-4d43-b167-d62b09a965df",
   "metadata": {},
   "source": [
    "内接 $n$ 角形の1辺の長さを $a_n$ とおくと、上の赤と緑の三角形を合わせた三角形は底辺 $1$, 高さ $\\frac{a_n}{2}$ で、内接正 $2n$ 角形はこれを $2n$ 個集めたものなので、$A_{2n}$ の値は\n",
    "\n",
    "$$\\begin{align}\n",
    "& A_{2n} = 2n \\cdot \\frac{a_n}{4} = \\frac{n a_n}{4}\n",
    "\\end{align}$$\n",
    "\n",
    "となります。よって $a_n$ が分かれば $A_{2n}$ が求まります。"
   ]
  },
  {
   "cell_type": "markdown",
   "id": "f73315ef-51be-41eb-9c77-af658008eb2b",
   "metadata": {},
   "source": [
    "まず辺 $OP$ の長さは\n",
    "\n",
    "$$OP = \\sqrt{r^2 -\\left(\\frac{a_n}{2}\\right)^2} = \\frac{1}{2}\\sqrt{4 -a_n^2}$$\n",
    "\n",
    "で与えられます。$a_{2n}$ の長さは\n",
    "\n",
    "$$\\begin{align*}\n",
    "a_{2n}^2 &= \\left(\\frac{a_n}{2}\\right)^2 +(1 -OP)^2 = \\frac{1}{4} a_n^2 + 1 -2 OP + OP^2 \\\\\n",
    "&= \\frac{1}{4} a_n^2 + 1 -\\sqrt{4-a_n^2} + 1 -\\frac{1}{4} a_n^2 \\\\\n",
    "&= 2 -\\sqrt{4 -a_n^2}\n",
    "\\end{align*}$$\n",
    "\n",
    "と $a_n$ を用いて表されます。これで、内接正多角形の1辺の長さを求めれば、円周率を求めることができます。\n",
    "\n",
    "アルキメデスの求め方では外接多角形と内接多角形の両方の辺の長さを求めなければならなかったことと比べると、劉徽の方法は内接多角形の辺だけ求めればよいので、必要な平方根の計算がほぼ半分になり、て計算においては効率が良いです。\n",
    "\n",
    "それでは実際に計算してみましょう。劉徽は正 $6$ 角形から始めて $192 = 6 \\cdot 2^5$ 角形まで計算したようなので、今回も正 $6$ 角形から始めます。"
   ]
  },
  {
   "cell_type": "code",
   "execution_count": 1,
   "id": "d2a8f9f4-9f90-4a1b-90a5-23723aac3724",
   "metadata": {},
   "outputs": [],
   "source": [
    "import math\n",
    "from functools import lru_cache\n",
    "\n",
    "\n",
    "@lru_cache\n",
    "def square_length_inscribed_polygon(e: int) -> float:\n",
    "    \"\"\"半径1の円の内接正6×2^n角形の1辺の長さの2乗を計算する\"\"\"\n",
    "    if e < 0:\n",
    "        raise ValueError(f\"Input value of e is {e}. e must be more than 0.\")\n",
    "\n",
    "    if e == 0:\n",
    "        return 1\n",
    "\n",
    "    return 2 - math.sqrt(4 - square_length_inscribed_polygon(e-1))\n",
    "\n",
    "\n",
    "@lru_cache\n",
    "def area_inscribed_polygon(e: int) -> float:\n",
    "    \"\"\"半径1の円の内接正6×2^n角形の面積を計算する\"\"\"\n",
    "    if e < 0:\n",
    "        raise ValueError(f\"Input value of e is {e}. e must be more than 0.\")\n",
    "\n",
    "    square_length_one_side = square_length_inscribed_polygon(e)\n",
    "    \n",
    "    return (6 * 2 ** e) \\\n",
    "        * math.sqrt(square_length_one_side) \\\n",
    "        * math.sqrt(4 -square_length_one_side) \\\n",
    "        / 4    "
   ]
  },
  {
   "cell_type": "code",
   "execution_count": 40,
   "id": "c41666b2-c4ed-4ff1-b953-ed6041c91983",
   "metadata": {},
   "outputs": [
    {
     "name": "stdout",
     "output_type": "stream",
     "text": [
      "n = 12  : \u001b[31m3.\u001b[0m00000000 < π < \u001b[31m3.\u001b[0m40192378\n",
      "n = 24  : \u001b[31m3.1\u001b[0m0582854 < π < \u001b[31m3.\u001b[0m21165708\n",
      "n = 48  : \u001b[31m3.1\u001b[0m3262861 < π < \u001b[31m3.1\u001b[0m5942868\n",
      "n = 96  : \u001b[31m3.1\u001b[0m3935020 < π < \u001b[31m3.14\u001b[0m607179\n",
      "n = 192 : \u001b[31m3.141\u001b[0m03195 < π < \u001b[31m3.14\u001b[0m271369\n",
      "n = 384 : \u001b[31m3.141\u001b[0m45247 < π < \u001b[31m3.141\u001b[0m87299\n",
      "n = 768 : \u001b[31m3.1415\u001b[0m5760 < π < \u001b[31m3.141\u001b[0m66274\n",
      "n = 1536: \u001b[31m3.1415\u001b[0m8389 < π < \u001b[31m3.141\u001b[0m61017\n",
      "n = 3072: \u001b[31m3.14159\u001b[0m046 < π < \u001b[31m3.14159\u001b[0m703\n"
     ]
    }
   ],
   "source": [
    "import sys\n",
    "sys.path.append('/home/jovyan/work/')\n",
    "from lib.utils import color_pi, PI_50\n",
    "\n",
    "A_prev = area_inscribed_polygon(0)\n",
    "for e in range(1, 10):\n",
    "    An = area_inscribed_polygon(e)\n",
    "    \n",
    "    print(\n",
    "        f\"n = {str(6 * 2 ** e):<4}: \" + f\"{color_pi(str(An)[:10], PI_50)}\"\n",
    "        f\" < π < {color_pi(str(2 * An - A_prev)[:10], PI_50)}\"\n",
    "    )\n",
    "    A_prev = An"
   ]
  },
  {
   "cell_type": "markdown",
   "id": "f467c80a-7f36-48df-8628-6d4ce7c4104c",
   "metadata": {},
   "source": [
    "劉徽は $n = 192$ まで計算し\n",
    "\n",
    "$$\\begin{align*}\n",
    "& 314 + \\frac{64}{625} < 100 \\pi < 314 + \\frac{169}{625} \\\\\n",
    "\\Leftrightarrow \\ & 3.14 + \\frac{64}{62500} < \\pi < 3.14 + \\frac{169}{62500}\n",
    "\\end{align*}$$\n",
    "\n",
    "つまり\n",
    "\n",
    "$$3.141024 < \\pi < 3.142704$$\n",
    "\n",
    "を得ました。上記の計算結果の $n = 192$ と比べると、上からの評価が若干良くなっていますが、これは平方根の計算時にある桁以降を切り捨てていたため $A_n$ の値が実際の値より小さく、$2A_{2n} -A_n$ も実際の値より小さくなったためだと思われます。\n",
    "正確な評価には $A_n$ を上下から評価し、上からの評価には大きめの値を用いる必要がありますが、そこまではしなかったようです。"
   ]
  },
  {
   "cell_type": "code",
   "execution_count": 22,
   "id": "da0f8d99-4095-4b73-9861-fe83ba518e8a",
   "metadata": {},
   "outputs": [
    {
     "name": "stdout",
     "output_type": "stream",
     "text": [
      "3.14+64/62500 = 3.1410240000000003\n",
      "3.14+169/62500 = 3.142704\n"
     ]
    }
   ],
   "source": [
    "print(f\"3.14+64/62500 = {3.14 + 64 / 62500}\")\n",
    "print(f\"3.14+169/62500 = {3.14 + 169 / 62500}\")"
   ]
  },
  {
   "cell_type": "markdown",
   "id": "4ab9ead3-08bb-4ac6-b253-345b97d5f253",
   "metadata": {},
   "source": [
    "## アルキメデスの方法との比較"
   ]
  },
  {
   "cell_type": "markdown",
   "id": "0253d6a7-0782-4386-b043-8fdf48cf204d",
   "metadata": {},
   "source": [
    "劉徽の方法とアルキメデスの方法と比較すると、平方根の計算が半分になっている反面、"
   ]
  },
  {
   "cell_type": "markdown",
   "id": "162c734b-ac14-475f-a2cd-3bf5353f1e3f",
   "metadata": {},
   "source": [
    "# 無限積公式"
   ]
  },
  {
   "cell_type": "markdown",
   "id": "e4064131-b1cf-4ee9-a0d3-6417e160525b",
   "metadata": {},
   "source": [
    "$c_n = \\frac{A_n}{A_{2n}}$ とおくと、\n",
    "\n",
    "$$\\begin{align*}\n",
    "c_{2n} &= \\sqrt{\\frac{1}{2} + \\frac{1}{2} c_n} \\\\\n",
    "\\frac{2A_{4n} -A_{2n}}{2A_{2n} -A_n} &= \\frac{2 -c_{2n}}{c_{2n}(2 -c_n)} \\\\\n",
    "\\end{align*}$$\n",
    "\n",
    "が成り立ちます。$m \\geq 2$ に対して\n",
    "\n",
    "$$\\begin{align}\n",
    "2A_{2^{m+2}} -A_{2^{m+1}} &= (2A_8 -A_4)\\prod_{k=2}^m \\frac{2A_{2^{k+2}} -A_{2^{k+1}} }{2A_{2^{k+1}} -A_2^k} \\\\\n",
    "&= A_8 (2 -c_4) \\frac{(2 -c_{2^{m+1}})}{2 -c_4} \\prod_{k=2}^m \\frac{1}{c_{2^{m+1}}} \\\\\n",
    "&= A_4 (2 -c_{2^{m+1}}) \\prod_{k=2}^m \\frac{1}{c_{2^m}}\n",
    "\\end{align}$$\n",
    "\n",
    "なので\n",
    "\n",
    "$$\\frac{\\pi}{2} < (2 -c_{2^{m+1}}) \\prod_{k=2}^m \\frac{1}{c_{2^m}}$$\n",
    "\n",
    "となります。$c_{2^{m+1}} \\to 1$, $(m \\to \\infty)$ なので\n",
    "\n",
    "$$\\begin{align}\n",
    "& \\frac{2}{\\pi} = \\prod_{k =2}^{\\infty} c_{2^k} \\\\\n",
    "= \\ & \\sqrt{\\frac{1}{2}} \\sqrt{\\frac{1}{2} + \\frac{1}{2} \\sqrt{\\frac{1}{2}}} \\sqrt{\\frac{1}{2} + \\frac{1}{2}\\sqrt{\\frac{1}{2} + \\frac{1}{2} \\sqrt{\\frac{1}{2}}}} \\cdots\n",
    "\\end{align}$$\n",
    "\n",
    "となり、ヴィエトの公式が得られます。\n",
    "\n",
    "ヴィエトの公式は円周率を下からしか評価できませんでしたが、劉徽の式を用いた無限積の公式は $(2 -c_{2^{m+1}})$ がかかっているおかげで円周率を上から評価できます。"
   ]
  },
  {
   "cell_type": "code",
   "execution_count": 26,
   "id": "66ff36db-cec7-4f94-a66e-073900029a35",
   "metadata": {},
   "outputs": [],
   "source": [
    "from typing import Generator, Union\n",
    "import math\n",
    "\n",
    "def viete_seq() -> Generator[Union[float, int], None, None]:\n",
    "    init = math.sqrt(1 / 2)\n",
    "    n = 1\n",
    "    a = init\n",
    "    while True:\n",
    "        yield (a, n)\n",
    "        a = math.sqrt((1 + a ) / 2)\n",
    "        n = n + 1"
   ]
  },
  {
   "cell_type": "code",
   "execution_count": 31,
   "id": "d8ef127f-2d83-418a-8f85-8a4d5b9d7d00",
   "metadata": {},
   "outputs": [
    {
     "name": "stdout",
     "output_type": "stream",
     "text": [
      "n = 2: 3.2945077930952467\n",
      "n = 3: 3.181422845595387\n",
      "n = 4: 3.1516518288338267\n",
      "n = 5: 3.1441138233635666\n",
      "n = 6: 3.1422233449107932\n",
      "n = 7: 3.141750351355829\n",
      "n = 8: 3.1416320795898818\n",
      "n = 9: 3.1416025101872282\n",
      "n = 10: 3.1415951177452404\n",
      "n = 11: 3.1415932696290354\n"
     ]
    }
   ],
   "source": [
    "vseq = viete_seq()\n",
    "v_0, _ = next(vseq)\n",
    "v_prod = 1\n",
    "\n",
    "for _ in range(0, 10):\n",
    "    (v_n, n) = next(vseq)\n",
    "    v_prod = v_prod * v_n\n",
    "    pi = 2 * math.sqrt(2) * (2 -v_n) / v_prod\n",
    "    print(f\"n = {n}: {pi}\")"
   ]
  }
 ],
 "metadata": {
  "kernelspec": {
   "display_name": "Python 3 (ipykernel)",
   "language": "python",
   "name": "python3"
  },
  "language_info": {
   "codemirror_mode": {
    "name": "ipython",
    "version": 3
   },
   "file_extension": ".py",
   "mimetype": "text/x-python",
   "name": "python",
   "nbconvert_exporter": "python",
   "pygments_lexer": "ipython3",
   "version": "3.11.6"
  }
 },
 "nbformat": 4,
 "nbformat_minor": 5
}
