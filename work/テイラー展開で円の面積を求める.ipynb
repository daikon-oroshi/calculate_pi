{
 "cells": [
  {
   "cell_type": "markdown",
   "metadata": {},
   "source": [
    "# テイラー展開で円の面積を求める"
   ]
  },
  {
   "cell_type": "markdown",
   "metadata": {},
   "source": [
    "円の面積は\n",
    "\n",
    "$$4 \\int_0^1 \\sqrt{1 -x^2} dx$$\n",
    "\n",
    "で与えられます。$\\sqrt{1 - x^2}$ のテイラー展開\n",
    "\n",
    "$$\n",
    "\\begin{align*}\n",
    "\\sqrt{1 - x^2} &= 1 - \\sum_{n = 1}^{\\infty} \\frac{(2n -3)!!}{(2n)!!} x^{2n} \\\\\n",
    "&= 1 -\\frac{1}{2} x^2 -\\frac{1}{2 \\cdot 4} x^4 - \\frac{3}{2 \\cdot 4 \\cdot 6} x^6 \\cdots\n",
    "\\end{align*}\n",
    "$$\n",
    "\n",
    "は $|x| \\leq 1$ で収束します。これにより $|x| \\leq 1$ で\n",
    "\n",
    "$$\n",
    "\\begin{align*}\n",
    "\\int_0^x \\sqrt{1 - t^2} dt &= \\int_0^x 1 - \\sum_{n = 1}^{\\infty} \\frac{(2n -3)!!}{(2n)!!} t^{2n} dt  \\\\\n",
    "&= x -\\sum_{n = 1}^{\\infty} \\frac{(2n -3)!!}{(2n)!!} \\int_0^x t^{2n} dt \\\\\n",
    "&= x -\\sum_{n = 1}^{\\infty} \\frac{(2n -3)!!}{(2n)!!(2n + 1)}  x^{2n+1}\n",
    "\\end{align*}\n",
    "$$\n",
    "\n",
    "が成り立ちます。$x = 1$ では\n",
    "\n",
    "$$ \\int_0^1 \\sqrt{1 -x^2} dx = 1 -\\sum_{n = 1}^{\\infty} \\frac{(2n -3)!!}{(2n)!!(2n + 1)} $$\n",
    "\n",
    "であり、これにより\n",
    "\n",
    "$$\n",
    "\\begin{align*}\n",
    "\\frac{\\pi}{4} =  1 -\\sum_{n = 1}^{\\infty} \\frac{(2n -3)!!}{(2n)!!(2n + 1)} \n",
    "\\end{align*}\n",
    "$$\n",
    "\n",
    "が成り立つので、円周率を求められます。\n",
    "\n",
    "また、$x = \\frac{1}{2}$ とすれば\n",
    "\n",
    "$$\\int_0^{\\frac{1}{2}}\\sqrt{1-x^2} dx = \\frac{\\pi}{12} + \\frac{\\sqrt{3}}{8}$$\n",
    "\n",
    "なので、\n",
    "\n",
    "$$\\frac{\\pi}{12} + \\frac{\\sqrt{3}}{8} = \\frac{1}{2} -\\sum_{n = 1}^{\\infty} \\frac{(2n -3)!!}{(2n)!!(2n + 1)}  \\left(\\frac{1}{2}\\right)^{2n+1}$$\n",
    "\n",
    "でも円周率を求められます。"
   ]
  },
  {
   "cell_type": "code",
   "execution_count": 1,
   "metadata": {},
   "outputs": [],
   "source": [
    "def fact(n: int) -> int:\n",
    "    if n <= 0:\n",
    "        return 1\n",
    "    else:\n",
    "        return n * fact(n - 1)\n",
    "    \n",
    "\n",
    "def fact2(n: int) -> int:\n",
    "    if n <= 0:\n",
    "        return 1\n",
    "    else:\n",
    "        return n * fact2(n - 2)\n",
    "\n",
    "\n",
    "def calc_pi(m: int = 100) -> float:\n",
    "    val = 1\n",
    "    for i in range(1, m):\n",
    "        val = val - (fact2(2*i - 3) / (2**i * fact(i) * (2*i + 1)))\n",
    "        \n",
    "    return 4 * val"
   ]
  },
  {
   "cell_type": "code",
   "execution_count": 5,
   "metadata": {},
   "outputs": [],
   "source": [
    "\"\"\"\n",
    "∫_0^x √(1-t^2) dt = Σa_n(x) とおけば、\n",
    "a_{n+1}(x) = ((2n-1)(2n+1) / (2n +2)(2n+3)) a_n(x) x^2\n",
    "(n=0でも成り立つ)\n",
    "\"\"\"\n",
    "\n",
    "from typing import Generator, Tuple\n",
    "\n",
    "def next_term(cur_term: float, x: float, n: int) -> float:\n",
    "    # a_{n+1} を返す\n",
    "    return (\n",
    "        ((2 * n - 1) * (2 * n+1)) \n",
    "        / ((2 * n + 2) * (2 * n + 3))\n",
    "    ) * cur_term * x ** 2\n",
    "\n",
    "def area(x) -> Generator[Tuple[float, int], None, None]:\n",
    "    n = 0\n",
    "    cur_term = x\n",
    "    _sum = x\n",
    "    while True:\n",
    "        yield (_sum, n)\n",
    "        cur_term = next_term(cur_term, x, n)\n",
    "        _sum = _sum + cur_term\n",
    "        n = n + 1"
   ]
  },
  {
   "cell_type": "code",
   "execution_count": 19,
   "metadata": {},
   "outputs": [
    {
     "name": "stdout",
     "output_type": "stream",
     "text": [
      "n = 0\n",
      "4 * area(1) \t \t \t \t = π ≧ 4.000000\n",
      "12 * (area(1/2) -√3/8)\t = π ≧ 3.4019237886\n",
      "n = 1\n",
      "4 * area(1) \t \t \t \t = π ≧ 3.333333\n",
      "12 * (area(1/2) -√3/8)\t = π ≧ 3.1519237886\n",
      "n = 2\n",
      "4 * area(1) \t \t \t \t = π ≧ 3.233333\n",
      "12 * (area(1/2) -√3/8)\t = π ≧ 3.1425487886\n",
      "n = 3\n",
      "4 * area(1) \t \t \t \t = π ≧ 3.197619\n",
      "12 * (area(1/2) -√3/8)\t = π ≧ 3.1417117351\n",
      "n = 4\n",
      "4 * area(1) \t \t \t \t = π ≧ 3.180258\n",
      "12 * (area(1/2) -√3/8)\t = π ≧ 3.1416100098\n",
      "n = 5\n",
      "4 * area(1) \t \t \t \t = π ≧ 3.170315\n",
      "12 * (area(1/2) -√3/8)\t = π ≧ 3.1415954446\n",
      "n = 6\n",
      "4 * area(1) \t \t \t \t = π ≧ 3.164005\n",
      "12 * (area(1/2) -√3/8)\t = π ≧ 3.1415931338\n",
      "n = 7\n",
      "4 * area(1) \t \t \t \t = π ≧ 3.159708\n",
      "12 * (area(1/2) -√3/8)\t = π ≧ 3.1415927404\n",
      "n = 8\n",
      "4 * area(1) \t \t \t \t = π ≧ 3.156627\n",
      "12 * (area(1/2) -√3/8)\t = π ≧ 3.1415926699\n",
      "n = 9\n",
      "4 * area(1) \t \t \t \t = π ≧ 3.154330\n",
      "12 * (area(1/2) -√3/8)\t = π ≧ 3.1415926567\n",
      "n = 10\n",
      "4 * area(1) \t \t \t \t = π ≧ 3.152564\n",
      "12 * (area(1/2) -√3/8)\t = π ≧ 3.1415926542\n",
      "n = 11\n",
      "4 * area(1) \t \t \t \t = π ≧ 3.151171\n",
      "12 * (area(1/2) -√3/8)\t = π ≧ 3.1415926537\n",
      "\n",
      "π = 3.1415926535...\n"
     ]
    }
   ],
   "source": [
    "import math\n",
    "\n",
    "S_2 = area(1)\n",
    "S_6 = area(1 / 2)\n",
    "\n",
    "for n in range(0, 12):\n",
    "\n",
    "    print(f\"n = {n}\")\n",
    "    print(f\"4 * area(1) \\t \\t \\t \\t = π ≧ {4 * next(S_2)[0]:.6f}\")\n",
    "    print(f\"12 * (area(1/2) -√3/8)\\t = π ≧ {12 * (next(S_6)[0] - math.sqrt(3)/ 8):.10f}\")\n",
    "    \n",
    "print(\"\")\n",
    "print(\"π = 3.1415926535...\")"
   ]
  },
  {
   "cell_type": "code",
   "execution_count": 24,
   "metadata": {},
   "outputs": [
    {
     "name": "stdout",
     "output_type": "stream",
     "text": [
      " 1項目：4.00000000\n",
      " 2項目：3.33333333\n",
      " 3項目：3.23333333\n",
      " 4項目：3.19761905\n",
      " 5項目：3.18025794\n",
      " 6項目：3.17031475\n",
      " 7項目：3.16400466\n",
      " 8項目：3.15970778\n",
      " 9項目：3.15662730\n",
      "10項目：3.15433045\n"
     ]
    }
   ],
   "source": [
    "S_2 = area(1)\n",
    "\n",
    "for n in range(0, 10):              \n",
    "    print(f\"{n+1:2}項目：{4 * next(S_2)[0]:.8f}\")"
   ]
  },
  {
   "cell_type": "code",
   "execution_count": 27,
   "metadata": {},
   "outputs": [
    {
     "name": "stdout",
     "output_type": "stream",
     "text": [
      "1項目：3.4019237886\n",
      "2項目：3.1519237886\n",
      "3項目：3.1425487886\n",
      "4項目：3.1417117351\n",
      "5項目：3.1416100098\n",
      "6項目：3.1415954446\n",
      "7項目：3.1415931338\n",
      "8項目：3.1415927404\n",
      "9項目：3.1415926699\n",
      "10項目：3.1415926567\n"
     ]
    }
   ],
   "source": [
    "S_6 = area(1/2)\n",
    "\n",
    "for n in range(0, 10):              \n",
    "    print(f\"{n+1}項目：{12 * (next(S_6)[0] - math.sqrt(3)/ 8):.10f}\")"
   ]
  }
 ],
 "metadata": {
  "kernelspec": {
   "display_name": "Python 3",
   "language": "python",
   "name": "python3"
  },
  "language_info": {
   "codemirror_mode": {
    "name": "ipython",
    "version": 3
   },
   "file_extension": ".py",
   "mimetype": "text/x-python",
   "name": "python",
   "nbconvert_exporter": "python",
   "pygments_lexer": "ipython3",
   "version": "3.7.3"
  }
 },
 "nbformat": 4,
 "nbformat_minor": 2
}
