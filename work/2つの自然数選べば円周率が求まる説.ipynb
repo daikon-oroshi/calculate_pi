{
 "cells": [
  {
   "cell_type": "markdown",
   "metadata": {},
   "source": [
    "# 自然数を2つ選んで円周率を求めるシミュレーション"
   ]
  },
  {
   "cell_type": "markdown",
   "metadata": {},
   "source": [
    "自然数を無作為に2つ選んだとき、それが互いに素である確率は $\\frac{6}{\\pi^2}$ であるという説があります。これを実際に計算して確認してみましょう。\n",
    "\n",
    "自然数全体に、どの自然数を選ぶ確率も等しいような確率分布を入れることは不可能なので、大きな自然数 $N$ を固定して、$1$ 以上 $N$ 以下の自然数のみを考えることとしましょう。このとき、任意の $1 \\leq x \\leq N$ が選ばれる確率は $\\frac{1}{N}$ となります。\n",
    "\n",
    "2つの自然数が互いに素であることは、ユークリッドの互除法を用いると簡単に判定できます。互除法についてはこのページの最後で解説します。"
   ]
  },
  {
   "cell_type": "markdown",
   "metadata": {},
   "source": []
  },
  {
   "cell_type": "code",
   "execution_count": 8,
   "metadata": {},
   "outputs": [],
   "source": [
    "from typing import Union\n",
    "\n",
    "\n",
    "def is_mutually_prime(a: int, b: int) -> bool:\n",
    "    if a <= 0 or b <= 0:\n",
    "        # 自然数に限定する\n",
    "        raise ValueError(f\"arguments must be more than 0\")\n",
    "    \n",
    "    def gcd(a: int, b: int) -> int: \n",
    "        \"\"\"\n",
    "        ユークリッドの互除法\n",
    "        \"\"\" \n",
    "        if a < b:\n",
    "            # a >= b に限定する\n",
    "            raise ValueError(f\"a must be more than or equal to b\")\n",
    "            \n",
    "        q = a // b\n",
    "        r = a % b\n",
    "        if r == 0:\n",
    "            return b\n",
    "        else:\n",
    "            return gcd(b, r)\n",
    "    \n",
    "    b = gcd(a, b) if a > b else gcd(b, a)\n",
    "    return b == 1"
   ]
  },
  {
   "cell_type": "code",
   "execution_count": 9,
   "metadata": {},
   "outputs": [
    {
     "name": "stdout",
     "output_type": "stream",
     "text": [
      "3, 2: 互いに素\n",
      "2, 4: 互いに素でない\n",
      "10, 51: 互いに素\n",
      "5, 10: 互いに素でない\n",
      "50000000, 100000001: 互いに素\n",
      "1071, 1029: 互いに素でない\n"
     ]
    }
   ],
   "source": [
    "for a, b in [(3, 2), (2, 4), (10, 51), (5, 10), (50000000, 100000001), (1071, 1029)]:\n",
    "    print(f\"{a}, {b}: \" + (\"互いに素\" if is_mutually_prime(a, b) else \"互いに素でない\"))"
   ]
  },
  {
   "cell_type": "code",
   "execution_count": 19,
   "metadata": {},
   "outputs": [],
   "source": [
    "import random\n",
    "import math\n",
    "\n",
    "def calc_pi(n: int, num_trial: int) -> float:\n",
    "    cnt_mutually_prime = 0\n",
    "\n",
    "    for _ in range(0, num_trial):\n",
    "        a = random.randint(1, n)\n",
    "        b = random.randint(1, n)\n",
    "\n",
    "        cnt_mutually_prime = cnt_mutually_prime + 1 \\\n",
    "            if is_mutually_prime(a, b) else cnt_mutually_prime\n",
    "    \n",
    "    prob_mutually_prime = cnt_mutually_prime / NUM_TRIAL\n",
    "    return math.sqrt(6 / prob_mutually_prime)\n"
   ]
  },
  {
   "cell_type": "code",
   "execution_count": 23,
   "metadata": {},
   "outputs": [
    {
     "name": "stdout",
     "output_type": "stream",
     "text": [
      "1回目: 3.1433384740114874\n",
      "2回目: 3.142665766752581\n",
      "3回目: 3.1403895311733296\n",
      "4回目: 3.1411046816241273\n",
      "5回目: 3.1410065454262903\n",
      "6回目: 3.1393422144149117\n",
      "7回目: 3.1409316582001634\n",
      "8回目: 3.1402501724473826\n",
      "9回目: 3.142766645308338\n",
      "10回目: 3.142601106120854\n"
     ]
    }
   ],
   "source": [
    "N = 10 ** 8\n",
    "NUM_TRIAL = 10 ** 6\n",
    "\n",
    "for i in range(1, 11):\n",
    "    print(f\"{i}回目: {calc_pi(N, NUM_TRIAL)}\")"
   ]
  },
  {
   "cell_type": "markdown",
   "metadata": {},
   "source": [
    "## 互除法について\n",
    "\n",
    "自然数 $a, b$ が互いに素であることは、互除法により確認できます。\n",
    "\n",
    "$a \\geq b$ とし、$a$ を $b$ で割った商を $q$、余りを $r$ とすると\n",
    "\n",
    "$$a = q b + r$$\n",
    "\n",
    "となります。このとき $r = 0$ ならば、$a$ は $b$ で割り切れるので、互いに素ではありません。$r > 0$ ならば、$r = a -bq$ なので、$a$ と $b$ が同じ数で割り切れるなら、$r$ もその数で割り切れます。よって $a$ と $b$ が同じ数で割り切れることを調べる代わりに、$b$ と $r$ が同じ数で割り切れることを調べても良いことになります。$r$ の取り方から、$b > r$ なので、$b$ と $r$ を調べる方が簡単です。\n",
    "\n",
    "$b$ を $a_1$、$r$ を $b_1$ と置き換えて、\n",
    "\n",
    "$$\n",
    "\\begin{align}\n",
    "(b = ) \\ a_1 &= q_1 b_1 + r_1 \\ (= r_1 q_1 + r_1), \\\\\n",
    "(b_1 = ) \\ a_2 &= q_2 b_2 + r_2 \\ (=  r_1 q_2 + r_2 )\n",
    "\\end{align}\n",
    "$$\n",
    "\n",
    "\n",
    "のように同じことをを繰り返すと、$r_n$ はどんどん小さくなり、いずれは $0$ になります。このとき、$b_n \\geq 2$ ならば、$a_n$ は $b_n$ で割り切れることになり、同じ数で割り切れることがわかります。$b_n = 1$ であれば、$r_n=0$ になる前に\n",
    "\n",
    "$$a_{n-1} = q_{n-1}b_{n-1} + 1$$\n",
    "\n",
    "という形になり、$a_{n-1}$ と $b_{n-1}$ は互いに素であることがわかります。ここで、もし $a$ と $b$ が同じ数で割り切れるならば、$a_{n-1}$ と $b_{n-1}$ も同じ数で割り切れるはずなので、$a_{n-1}$ と $b_{n-1}$ が互いに素であるならば　$a$ と $b$ も互いに素になります。\n",
    "\n",
    "以上をまとめると、$r_n = 0$ となったとき、$b_n = 1$ ならば　$a, b$ は互いに素、$b_n \\geq 2$ ならば　$a, b$ は互いに素でない (同じ数で割り切れる) ことがわかります。\n",
    "\n",
    "実は、$b_n$ は $a$ と $b$ の最大公約数になっています。"
   ]
  }
 ],
 "metadata": {
  "kernelspec": {
   "display_name": "Python 3",
   "language": "python",
   "name": "python3"
  },
  "language_info": {
   "codemirror_mode": {
    "name": "ipython",
    "version": 3
   },
   "file_extension": ".py",
   "mimetype": "text/x-python",
   "name": "python",
   "nbconvert_exporter": "python",
   "pygments_lexer": "ipython3",
   "version": "3.7.3"
  }
 },
 "nbformat": 4,
 "nbformat_minor": 2
}
