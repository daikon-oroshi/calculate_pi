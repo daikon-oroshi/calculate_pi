{
 "cells": [
  {
   "cell_type": "markdown",
   "metadata": {},
   "source": [
    "# 区分求積法でπを求める"
   ]
  },
  {
   "cell_type": "markdown",
   "metadata": {},
   "source": []
  },
  {
   "cell_type": "markdown",
   "metadata": {},
   "source": [
    "一般に、区間 $[0, 1]$ で可積分な関数 $f$ に対して\n",
    "\n",
    "$$\\int_0^1 f(x) dx = \\lim_{n \\to \\infty} \\frac{1}{n} \\sum_{k=0}^{n-1} f\\left(\\frac{k}{n}\\right)$$\n",
    "\n",
    "が成り立ちます。極限を取らなくても、任意の自然数 $N$ に対して\n",
    "\n",
    "$$\\frac{1}{N} \\sum_{k=0}^{N-1} \\min_{\\frac{k}{N} \\leq x \\leq \\frac{k+1}{N}} f(x) \\leq \\int_0^1 f(x) dx \\leq \\frac{1}{N} \\sum_{k=0}^{N-1} \\max_{\\frac{k}{N} \\leq x \\leq \\frac{k+1}{N}} f(x)$$\n",
    "\n",
    "が成り立ちます。これを用いて円の面積を求めます。"
   ]
  },
  {
   "cell_type": "markdown",
   "metadata": {},
   "source": [
    "円の方程式は\n",
    "\n",
    "$$x^2 + y^2 = 1$$\n",
    "\n",
    "なので、$y \\geq 0$ で\n",
    "\n",
    "$$y = \\sqrt{1 -x^2}$$\n",
    "\n",
    "と表されます。円の第一象限部分の面積は $\\frac{\\pi}{4}$ であり、積分を用いると\n",
    "\n",
    "$$\\frac{\\pi}{4} \\int_0^1 \\sqrt{1 -x^2} dx$$\n",
    "\n",
    "と表されます。$\\sqrt{1 -x^2}$ は $x$ に関して単調減少なので、任意の $N > 0$ に対して\n",
    "\n",
    "$$\\frac{1}{N} \\sum_{k=0}^{N-1} \\sqrt{1 -\\left(\\frac{k+1}{N}\\right)^2} \\leq \\frac{\\pi}{4} \\leq \\frac{1}{N} \\sum_{k=0}^{N-1} \\sqrt{1 -\\left(\\frac{k}{N}\\right)^2}$$\n",
    "\n",
    "が成り立ちます。"
   ]
  },
  {
   "cell_type": "markdown",
   "metadata": {},
   "source": [
    "左辺の添字をずらすと、\n",
    "\n",
    "$$\n",
    "\\begin{align}\n",
    "\\frac{1}{N} \\sum_{k=0}^{N-1} \\sqrt{1 -\\left(\\frac{k+1}{N}\\right)^2} &= \\frac{1}{N} \\sum_{k=1}^{N} \\sqrt{1 -\\left(\\frac{k}{N}\\right)^2}　\\\\\n",
    "&= \\frac{1}{N} \\sum_{k=1}^{N-1} \\sqrt{1 -\\left(\\frac{k}{N}\\right)^2} + \\frac{1}{N} \\sum_{k=1}^{N-1} \\sqrt{1 -\\left(\\frac{N}{N}\\right)^2} \\\\ \n",
    "&= \\frac{1}{N} \\sum_{k=1}^{N-1} \\sqrt{1 -\\left(\\frac{k}{N}\\right)^2}\n",
    "\\end{align}\n",
    "$$\n",
    "\n",
    "となり、右辺は\n",
    "\n",
    "$$\n",
    "\\begin{align}\n",
    "\\frac{1}{N} \\sum_{k=0}^{N-1} \\sqrt{1 -\\left(\\frac{k}{N}\\right)^2} &= \\frac{1}{N}\\sqrt{1 -\\left(\\frac{0}{N}\\right)^2} + \\frac{1}{N} \\sum_{k=1}^{N-1} \\sqrt{1 -\\left(\\frac{k}{N}\\right)^2} \\\\\n",
    "&= \\frac{1}{N} + \\frac{1}{N} \\sum_{k=1}^{N-1} \\sqrt{1 -\\left(\\frac{k}{N}\\right)^2} \n",
    "\\end{align}\n",
    "$$\n",
    "\n",
    "となるので、\n",
    "\n",
    "$$\\frac{1}{N} \\sum_{k=1}^{N-1} \\sqrt{1 -\\left(\\frac{k}{N}\\right)^2} \\leq \\frac{\\pi}{4} \\leq \\frac{1}{N} \\sum_{k=1}^{N-1} \\sqrt{1 -\\left(\\frac{k}{N}\\right)^2} +  \\frac{1}{N}$$\n",
    "\n",
    "となり、$\\frac{1}{N} \\sum_{k=1}^{N-1} \\sqrt{1 -\\left(\\frac{k}{N}\\right)^2} $ のみを計算すればよく、さらに円周率の誤差が $\\frac{4}{N}$ で求められることがわかります。\n",
    "\n",
    "それでは、"
   ]
  },
  {
   "cell_type": "code",
   "execution_count": 14,
   "metadata": {},
   "outputs": [],
   "source": [
    "from typing import Union\n",
    "import math\n",
    "\n",
    "\n",
    "def  quadrature_by_parts(n: int = 400) -> Union[float, float]:\n",
    "    lower = 0\n",
    "    for k in range(1, n):\n",
    "        lower = lower + math.sqrt(1 - (k/n)**2)\n",
    "    \n",
    "    lower = 4 * lower / n\n",
    "    upper = lower + 4/n\n",
    "    return lower, upper"
   ]
  },
  {
   "cell_type": "code",
   "execution_count": 21,
   "metadata": {},
   "outputs": [
    {
     "name": "stdout",
     "output_type": "stream",
     "text": [
      "N = 25\n",
      "3.052196310902997 < π < 3.212196310902997\n",
      "N = 40\n",
      "3.08694773421701 < π < 3.1869477342170103\n",
      "N = 400\n",
      "3.136445667092193 < π < 3.146445667092193\n",
      "N = 4000\n",
      "3.1410880051481054 < π < 3.1420880051481053\n",
      "N = 40000\n",
      "3.141542506592144 < π < 3.1416425065921443\n",
      "N = 400000\n",
      "3.141587648941385 < π < 3.141597648941385\n"
     ]
    }
   ],
   "source": [
    "lists = [25, 40, 400, 4000, 40000, 400000]\n",
    "\n",
    "for l in lists:\n",
    "    low, up = quadrature_by_parts(l)\n",
    "    print(f\"N = {l}\")\n",
    "    print(f\"{low} < π < {up}\")\n",
    "    "
   ]
  }
 ],
 "metadata": {
  "kernelspec": {
   "display_name": "Python 3",
   "language": "python",
   "name": "python3"
  },
  "language_info": {
   "codemirror_mode": {
    "name": "ipython",
    "version": 3
   },
   "file_extension": ".py",
   "mimetype": "text/x-python",
   "name": "python",
   "nbconvert_exporter": "python",
   "pygments_lexer": "ipython3",
   "version": "3.7.3"
  }
 },
 "nbformat": 4,
 "nbformat_minor": 2
}
