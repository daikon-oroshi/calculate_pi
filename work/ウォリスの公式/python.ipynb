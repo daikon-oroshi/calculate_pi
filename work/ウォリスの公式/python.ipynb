{
 "cells": [
  {
   "cell_type": "markdown",
   "metadata": {},
   "source": [
    "# ウォリスの公式を使って円周率を求める"
   ]
  },
  {
   "cell_type": "markdown",
   "metadata": {},
   "source": [
    "ウォリスは\n",
    "\n",
    "$$\\begin{align*}\n",
    "\\frac{\\pi}{2} &= \\frac{2 \\cdot 2}{1 \\cdot 3} \\cdot  \\frac{4 \\cdot 4}{3 \\cdot 5} \\cdot  \\frac{6 \\cdot 6}{5 \\cdot 7} \\cdots \\\\\n",
    "&= \\prod_{n = 1}^{\\infty} \\frac{(2n)^2}{(2n -1)(2n+1)}\n",
    "\\end{align*}$$\n",
    "\n",
    "という、自然数の無限積による円周率の公式を発見しました。これを用いて円周率を計算します。\n",
    "\n",
    "その前に計算の誤差について簡単にまとめます。\n",
    "\n",
    "$$I_n = \\int_0^{\\frac{\\pi}{2}} \\cos^n \\theta d \\theta$$\n",
    "\n",
    "とおいたとき、$n \\geq 1$ ならば\n",
    "\n",
    "$$\\begin{gather*}\n",
    "I_{2n} = \\frac{2n-1}{2n}I_{2n-2} = \\frac{2n-1}{2n}\\cdots \\frac{1}{2} I_0 = \\frac{(2n-1)!!}{(2n)!!} \\frac{\\pi}{2} \\\\\n",
    "I_{2n+1} = \\frac{2n}{2n+1}I_{2n-1} = \\frac{2n}{2n+1}\\cdots \\frac{2}{3} I_1 = \\frac{(2n)!!}{(2n+1)!!} \n",
    "\\end{gather*}$$\n",
    "\n",
    "が成り立ちます。ここで、\n",
    "\n",
    "$$\\begin{align*}\n",
    "(2n)!! &= 2n \\cdot (2n -2) \\cdots 2 \\\\\n",
    "(2n-1)!! &= (2n-1) \\cdot (2n-3) \\cdots 1\n",
    "\\end{align*}$$\n",
    "\n",
    "とします。$n \\geq 1$ のとき $\\cos^{2n+1} \\leq \\cos^{2n} \\theta \\leq \\cos^{2n-1} \\theta$ から、$\\theta$ に関して $0$ から $\\frac{\\pi}{2}$ まで積分して\n",
    "\n",
    "$$I_{2n+1} \\leq I_{2n} \\leq I_{2n-1}$$\n",
    "\n",
    "が成り立ちます。変形すると\n",
    "\n",
    "$$\\begin{gather*}\n",
    "I_{2n+1} & \\leq & I_{2n}\\quad & \\leq & I_{2n-1} \\\\\n",
    "\\frac{(2n)!!}{(2n+1)!!} & \\leq & \\frac{(2n-1)!!}{(2n)!!} \\frac{\\pi}{2} & \\leq  & \\frac{(2n-2)!!}{(2n-1)!!} \\\\\n",
    "\\frac{((2n)!!)^2}{(2n-1)!!(2n+1)!!} & \\leq & \\frac{\\pi}{2} \\quad & \\leq & \\frac{(2n)!!(2n-2)!!}{(2n-1)!!(2n-1)!!} \\\\\n",
    "& & & = & \\frac{((2n)!!)^2}{(2n-1)!!(2n+1)!!} \\frac{2n+1}{2n}\n",
    "\\end{gather*}$$\n",
    "\n",
    "となります。\n",
    "\n",
    "$$W_n = \\frac{((2n)!!)^2}{(2n-1)!!(2n+1)!!}$$\n",
    "\n",
    "とおくと、\n",
    "\n",
    "$$\\begin{gather*}\n",
    "& W_n \\leq \\frac{\\pi}{2} \\leq \\frac{2n+1}{2n} W_n \\\\\n",
    "\\Leftrightarrow \\ & 2 W_n \\leq \\pi \\leq \\frac{2n+1}{n} W_n \n",
    "\\end{gather*}$$\n",
    "\n",
    "であり、$W_1 = \\frac{2 \\cdot 2}{1 \\cdot 3}$, $n \\geq 2$ のとき\n",
    "\n",
    "$$\\begin{align}\n",
    "W_n &= \\frac{((2n)!!)^2}{(2n-1)!!(2n+1)!!} \\\\\n",
    "&= \\frac{((2n-2)!!)^2}{(2n-3)!!(2n-1)!!} \\frac{2n \\cdot 2n}{(2n-1)(2n+1)} \\\\\n",
    "&= \\frac{2n \\cdot 2n}{(2n-1)(2n+1)} W_{n-1}\n",
    "\\end{align}$$\n",
    "\n",
    "なのでウォリスの公式から $\\lim_{n \\to \\infty} W_n = \\frac{\\pi}{2}$ となります。よって円周率は誤差 $\\frac{2n+1}{n} W_n -2W_n = \\frac{1}{n}W_n \\leq \\frac{\\pi}{2n}$ で求められます。$n$ を $10$ 倍して、おおよそ1桁精度が上がります。\n",
    "\n",
    "\n",
    "それでは円周率を計算しましょう。\n"
   ]
  },
  {
   "cell_type": "code",
   "execution_count": null,
   "metadata": {},
   "outputs": [],
   "source": [
    "from typing import Generator, Tuple\n",
    "\n",
    "\n",
    "def w_n_seq() -> Generator[Tuple[float, int], None, None]:\n",
    "    seq_no = 1\n",
    "    val = 2 * 2 / 3\n",
    "    \n",
    "    while True:\n",
    "        seq_no = seq_no + 1\n",
    "        val = val * (2 * seq_no) ** 2 / ((2 * seq_no - 1) * (2 * seq_no + 1))\n",
    "        yield (val, seq_no)"
   ]
  },
  {
   "cell_type": "code",
   "execution_count": 32,
   "metadata": {},
   "outputs": [
    {
     "name": "stdout",
     "output_type": "stream",
     "text": [
      "n = 10     \t 2Wn = 3.0677038 \t 誤差: 0.073889\n",
      "n = 100    \t 2Wn = 3.1337875 \t 誤差: 0.0078052\n",
      "n = 1000   \t 2Wn = 3.1408077 \t 誤差: 0.00078491\n",
      "n = 10000  \t 2Wn = 3.1415141 \t 誤差: 7.8535e-05\n",
      "n = 100000 \t 2Wn = 3.1415848 \t 誤差: 7.8539e-06\n"
     ]
    }
   ],
   "source": [
    "from math import pi\n",
    "\n",
    "for w_n, no in w_n_seq():\n",
    "    if no in [10**1, 10**2, 10**3, 10**4, 10** 5]:\n",
    "        print(f\"n = {no: <6} \\t 2Wn = {2* w_n:.8} \\t 誤差: {pi -2 * w_n :.5}\")\n",
    "    \n",
    "    if no > 10**5:\n",
    "        break"
   ]
  },
  {
   "cell_type": "code",
   "execution_count": 34,
   "metadata": {},
   "outputs": [
    {
     "name": "stdout",
     "output_type": "stream",
     "text": [
      "n = 10     \t 3.067704 ≦ π ≦ 3.221089 \t 誤差: 0.15339\n",
      "n = 100    \t 3.133787 ≦ π ≦ 3.149456 \t 誤差: 0.015669\n",
      "n = 1000   \t 3.140808 ≦ π ≦ 3.142378 \t 誤差: 0.0015704\n",
      "n = 10000  \t 3.141514 ≦ π ≦ 3.141671 \t 誤差: 0.00015708\n",
      "n = 100000 \t 3.141585 ≦ π ≦ 3.141601 \t 誤差: 1.5708e-05\n"
     ]
    }
   ],
   "source": [
    "for w_n, no in w_n_seq():\n",
    "    if no in [10**1, 10**2, 10**3, 10**4, 10** 5]:\n",
    "        print(f\"n = {no: <6} \\t {2* w_n:.7} ≦ π ≦ {(2+ 1/no) *w_n:.7} \\t 誤差: {w_n/no:.5}\")\n",
    "    \n",
    "    if no > 10**5:\n",
    "        break"
   ]
  }
 ],
 "metadata": {
  "kernelspec": {
   "display_name": "Python 3",
   "language": "python",
   "name": "python3"
  },
  "language_info": {
   "codemirror_mode": {
    "name": "ipython",
    "version": 3
   },
   "file_extension": ".py",
   "mimetype": "text/x-python",
   "name": "python",
   "nbconvert_exporter": "python",
   "pygments_lexer": "ipython3",
   "version": "3.7.3"
  }
 },
 "nbformat": 4,
 "nbformat_minor": 2
}
