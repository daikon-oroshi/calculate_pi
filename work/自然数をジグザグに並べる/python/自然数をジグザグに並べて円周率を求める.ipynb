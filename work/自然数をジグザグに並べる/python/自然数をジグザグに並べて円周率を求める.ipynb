{
 "cells": [
  {
   "cell_type": "markdown",
   "id": "7354c0de-5e6a-4444-9b05-071ba86cc100",
   "metadata": {},
   "source": [
    "# 自然数をジグザグに並べて円周率を求める\n",
    "\n"
   ]
  },
  {
   "cell_type": "markdown",
   "id": "9e843d9b-3c1e-4539-8d4b-ac0b49b90fb2",
   "metadata": {},
   "source": [
    "$1$ から $n$ までの自然数を並べて、前から順に $a_1, a_2, \\cdots, a_n$ とおきます。$a_1, a_2, \\cdots, a_n$ が\n",
    "\n",
    "$$\\begin{align}\n",
    "a_1 < a_2 > a_3 < \\cdots\n",
    "\\end{align}$$\n",
    "\n",
    "を満たすとき、その並べ方をジグザグ順列といいます。$1$ から $n$ までの自然数のジグザグ順列の数を $e_n$ とおくと\n",
    "\n",
    "$$\\begin{align}\n",
    "\\lim_{n\\to\\infty} \\frac{n e_{n-1}}{e_{n}} = \\frac{\\pi}{2}\n",
    "\\end{align}$$\n",
    "\n",
    "が成り立つことが知られています。この式から円周率が計算できるか検証します。\n",
    "\n",
    "まずは愚直に、自然数の全ての順列からジグザグ順列を抜き出して $e_n$ を数えます。"
   ]
  },
  {
   "cell_type": "code",
   "execution_count": 25,
   "id": "ba820f2c-ee72-4326-8ceb-42c540305f6f",
   "metadata": {},
   "outputs": [],
   "source": [
    "from itertools import permutations\n",
    "\n",
    "\n",
    "def count_zugzag_perm(n: int) -> int: \n",
    "\n",
    "    def is_zigzag(perm: [int]) -> bool:\n",
    "        prev = perm[0]\n",
    "        for i_, a in enumerate(perm[1:]):\n",
    "            i = i_ + 1\n",
    "            \n",
    "            if i % 2 == 1 and prev < a:\n",
    "                # a_{2n} < a_{2n+1} なのでfalse\n",
    "                return False\n",
    "            elif i % 2 == 0 and prev > a:\n",
    "                # a_{2n-1} > a_{2n} なのでfalse\n",
    "                return False       \n",
    "\n",
    "            prev = a\n",
    "            \n",
    "        return True\n",
    "\n",
    "    return len(\n",
    "        [\n",
    "            perm\n",
    "            for perm in permutations(range(1, n+1), n)\n",
    "            if is_zigzag(perm)\n",
    "        ]\n",
    "    )"
   ]
  },
  {
   "cell_type": "code",
   "execution_count": 27,
   "id": "e953387e-fb35-41be-bc35-45ea8b201ad6",
   "metadata": {},
   "outputs": [
    {
     "name": "stdout",
     "output_type": "stream",
     "text": [
      "e_1 = 1\n",
      "e_2 = 1\n",
      "e_3 = 2\n",
      "e_4 = 5\n",
      "e_5 = 16\n",
      "e_6 = 61\n",
      "e_7 = 272\n",
      "e_8 = 1385\n",
      "e_9 = 7936\n"
     ]
    }
   ],
   "source": [
    "for n in range(1, 10):\n",
    "    print(f\"e_{n} = {count_zugzag_perm(n)}\")"
   ]
  },
  {
   "cell_type": "markdown",
   "id": "145dc5d2-8d76-4a51-acec-3a9ade5c8560",
   "metadata": {},
   "source": [
    "ただし、この求め方は効率が悪く、別の方法で求めるのが良いです。実は\n",
    "\n",
    "$$2e_{n+1} = \\sum_{k=0}^{n}\\binom{n}{k} e_{k} e_{n-k}$$\n",
    "\n",
    "という漸化式が成り立つことが知られています。この方法で計算してみましょう。"
   ]
  },
  {
   "cell_type": "code",
   "execution_count": 10,
   "id": "a155d0bb-ee8f-416b-8f99-5a23d7ec1f23",
   "metadata": {},
   "outputs": [],
   "source": [
    "from functools import lru_cache\n",
    "import math\n",
    "\n",
    "@lru_cache(maxsize=1000)\n",
    "def zigzag_num(n: int) -> int:\n",
    "    if n < 0:\n",
    "         raise ValueError(f\"Input: n = {n}. Input value must be > 0.\")\n",
    "\n",
    "    if n == 0 or n == 1:\n",
    "        return 1\n",
    "    else:\n",
    "        return sum([\n",
    "            math.comb(n - 1, k) * zigzag_num(k) * zigzag_num(n -1 -k)\n",
    "            for k in range(0, n)\n",
    "        ]) // 2"
   ]
  },
  {
   "cell_type": "code",
   "execution_count": 30,
   "id": "dd7f0c9f-d5fd-4473-ab3c-1d79053fdf63",
   "metadata": {},
   "outputs": [
    {
     "name": "stdout",
     "output_type": "stream",
     "text": [
      " \t 漸化式 \t カウント\n",
      "e_1\t 1 \t 1\n",
      "e_2\t 1 \t 1\n",
      "e_3\t 2 \t 2\n",
      "e_4\t 5 \t 5\n",
      "e_5\t 16 \t 16\n",
      "e_6\t 61 \t 61\n",
      "e_7\t 272 \t 272\n",
      "e_8\t 1385 \t 1385\n",
      "e_9\t 7936 \t 7936\n"
     ]
    }
   ],
   "source": [
    "print(f\" \\t 漸化式 \\t カウント\")\n",
    "for n in range(1, 10):\n",
    "    print(f\"e_{n}\\t {zigzag_num(n)} \\t {count_zugzag_perm(n)}\")"
   ]
  },
  {
   "cell_type": "markdown",
   "id": "21f003b2-a141-4a61-883f-14830060c8b7",
   "metadata": {},
   "source": [
    "$e_n$ の指数型母関数を\n",
    "\n",
    "$$f(x) = \\sum_{n=0}^{\\infty} \\frac{e_n}{n!} x^n$$\n",
    "\n",
    "とおくと、\n",
    "\n",
    "$$f(x) = \\tan x + \\frac{1}{\\cos x}$$\n",
    "\n",
    "が成り立つことが知られています。これにより $f(x)$ 収束半径は $\\frac{\\pi}{2}$ であることがわかり\n",
    "\n",
    "$$\\begin{align}\n",
    "\\lim_{n\\to\\infty} \\frac{n e_{n-1}}{e_n} &= \\frac{\\pi}{2} \\quad (ただし極限が存在すれば) \\\\\n",
    "\\liminf_{n\\to\\infty} \\sqrt[n]{\\frac{n!}{e_n}} &= \\frac{\\pi}{2}\n",
    "\\end{align}$$\n",
    "\n",
    "となります。実際に計算すると、以下のようになります。"
   ]
  },
  {
   "cell_type": "code",
   "execution_count": 19,
   "id": "8e80dc37-b55b-4dc2-bf2e-fd6c4462c866",
   "metadata": {},
   "outputs": [],
   "source": [
    "def dAlembert(n: int) -> float:\n",
    "    return 2 * (n+1) * zigzag_num(n) / zigzag_num(n+1)\n",
    "\n",
    "def cauchy_hadamard(n: int) -> float:\n",
    "    return 2 * math.pow(\n",
    "        math.factorial(n) / zigzag_num(n),\n",
    "        1 / n\n",
    "    )"
   ]
  },
  {
   "cell_type": "code",
   "execution_count": 32,
   "id": "f94eb2c9-7f1f-4712-af1d-64e0acd8066f",
   "metadata": {},
   "outputs": [
    {
     "name": "stdout",
     "output_type": "stream",
     "text": [
      "d'Alembert\n",
      "n = 1: \u001b[31m\u001b[0m4.0 (0 桁まで一致)\n",
      "n = 2: \u001b[31m3.\u001b[0m0 (0 桁まで一致)\n",
      "n = 3: \u001b[31m3.\u001b[0m2 (0 桁まで一致)\n",
      "n = 4: \u001b[31m3.1\u001b[0m25 (1 桁まで一致)\n",
      "n = 5: \u001b[31m3.14\u001b[0m75409836065573 (2 桁まで一致)\n",
      "n = 6: \u001b[31m3.1\u001b[0m39705882352941 (1 桁まで一致)\n",
      "n = 7: \u001b[31m3.14\u001b[0m22382671480142 (2 桁まで一致)\n",
      "n = 8: \u001b[31m3.141\u001b[0m381048387097 (3 桁まで一致)\n",
      "n = 9: \u001b[31m3.141\u001b[0m663862552206 (3 桁まで一致)\n",
      "n = 10: \u001b[31m3.1415\u001b[0m690575253254 (4 桁まで一致)\n",
      "\n",
      "CauchyHadamard\n",
      "n = 1: \u001b[31m\u001b[0m2.0 (0 桁まで一致)\n",
      "n = 2: \u001b[31m\u001b[0m2.8284271247461903 (0 桁まで一致)\n",
      "n = 3: \u001b[31m\u001b[0m2.8844991406148166 (0 桁まで一致)\n",
      "n = 4: \u001b[31m\u001b[0m2.960331217969141 (0 桁まで一致)\n",
      "n = 5: \u001b[31m\u001b[0m2.9925557394776896 (0 桁まで一致)\n",
      "n = 6: \u001b[31m3.\u001b[0m0178462212865687 (0 桁まで一致)\n",
      "n = 7: \u001b[31m3.\u001b[0m0349607998067603 (0 桁まで一致)\n",
      "n = 8: \u001b[31m3.\u001b[0m048167578315654 (0 桁まで一致)\n",
      "n = 9: \u001b[31m3.\u001b[0m0583865177718805 (0 桁まで一致)\n",
      "n = 10: \u001b[31m3.\u001b[0m066613937134974 (0 桁まで一致)\n",
      "\n",
      "CauchyHadamard\n",
      "n = 1: \u001b[31m\u001b[0m2.0 (0 桁まで一致)\n",
      "n = 41: \u001b[31m3.1\u001b[0m231373871598715 (1 桁まで一致)\n",
      "n = 81: \u001b[31m3.1\u001b[0m322375093429717 (1 桁まで一致)\n",
      "n = 121: \u001b[31m3.1\u001b[0m35327032487838 (1 桁まで一致)\n",
      "n = 161: \u001b[31m3.1\u001b[0m368825409148418 (1 桁まで一致)\n",
      "n = 201: \u001b[31m3.1\u001b[0m37819313604007 (1 桁まで一致)\n",
      "n = 241: \u001b[31m3.1\u001b[0m38445280267887 (1 桁まで一致)\n",
      "n = 281: \u001b[31m3.1\u001b[0m388931123886015 (1 桁まで一致)\n",
      "n = 321: \u001b[31m3.1\u001b[0m392293772556084 (1 桁まで一致)\n",
      "n = 361: \u001b[31m3.1\u001b[0m394911485258428 (1 桁まで一致)\n",
      "n = 401: \u001b[31m3.1\u001b[0m39700711831748 (1 桁まで一致)\n",
      "n = 441: \u001b[31m3.1\u001b[0m398722695306738 (1 桁まで一致)\n",
      "n = 481: \u001b[31m3.14\u001b[0m00153008897043 (2 桁まで一致)\n"
     ]
    }
   ],
   "source": [
    "import sys\n",
    "sys.path.append('/home/jovyan/work/')\n",
    "from lib.utils import print_pi as print_pi_, PI_50\n",
    "DPS = 50\n",
    "\n",
    "N = 10\n",
    "\n",
    "print_pi = lambda x: print_pi_(x, PI_50, DPS, _format=f\"n = {n}: \"+\"{pi} ({mdigit} 桁まで一致)\")\n",
    "\n",
    "print(\"d'Alembert\")\n",
    "for n in range(1, N +1):\n",
    "    print_pi(dAlembert(n))\n",
    "\n",
    "print(\"\\nCauchyHadamard\")\n",
    "for n in range(1, N +1):\n",
    "    print_pi(cauchy_hadamard(n))\n",
    "\n",
    "print(\"\\nCauchyHadamard\")\n",
    "for n in range(1, 500, 40):\n",
    "    print_pi(cauchy_hadamard(n))"
   ]
  },
  {
   "cell_type": "code",
   "execution_count": null,
   "id": "1b8c25bd-af76-4cd7-bd98-2364d0a09c4c",
   "metadata": {},
   "outputs": [],
   "source": []
  }
 ],
 "metadata": {
  "kernelspec": {
   "display_name": "Python 3 (ipykernel)",
   "language": "python",
   "name": "python3"
  },
  "language_info": {
   "codemirror_mode": {
    "name": "ipython",
    "version": 3
   },
   "file_extension": ".py",
   "mimetype": "text/x-python",
   "name": "python",
   "nbconvert_exporter": "python",
   "pygments_lexer": "ipython3",
   "version": "3.11.6"
  }
 },
 "nbformat": 4,
 "nbformat_minor": 5
}
