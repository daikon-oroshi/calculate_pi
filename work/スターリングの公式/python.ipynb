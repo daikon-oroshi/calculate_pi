{
 "cells": [
  {
   "cell_type": "markdown",
   "metadata": {},
   "source": [
    "# スターリングの公式を用いて円周率を計算する"
   ]
  },
  {
   "cell_type": "markdown",
   "metadata": {},
   "source": [
    "スターリングの公式\n",
    "\n",
    "$$n ! \\sim \\sqrt{2 \\pi n}\\left(\\frac{n}{e}\\right)^n$$\n",
    "\n",
    "ここで $\\sim$ は\n",
    "\n",
    "$$\\lim_{n\\to\\infty} \\frac{n!}{\\sqrt{2 \\pi n}\\left(\\frac{n}{e}\\right)^n} = 1$$\n",
    "\n",
    "を満たすことを意味します。両辺 $\\sqrt{\\pi}$ をかけて\n",
    "\n",
    "$$\\sqrt{\\pi} = \\lim_{n\\to\\infty} \\frac{n!}{\\sqrt{2 n}\\left(\\frac{n}{e}\\right)^n}$$\n",
    "\n",
    "となります。これで円周率を求めます。"
   ]
  },
  {
   "cell_type": "code",
   "execution_count": 1,
   "metadata": {},
   "outputs": [],
   "source": [
    "import math\n",
    "import mpmath\n",
    "\n",
    "def stirling(n) -> float:\n",
    "    val = mpmath.mpf(1)\n",
    "    for i in range(1, n+1):\n",
    "        val = val * (i * mpmath.e / n)        \n",
    "    return val / math.sqrt(2 * n) "
   ]
  },
  {
   "cell_type": "code",
   "execution_count": 2,
   "metadata": {},
   "outputs": [
    {
     "name": "stdout",
     "output_type": "stream",
     "text": [
      "n = 10     \t π ≒ 3.194373601 \t 誤差: 0.05278094784\n",
      "n = 100    \t π ≒ 3.146832990 \t 誤差: 0.005240336022\n",
      "n = 1000   \t π ≒ 3.142116296 \t 誤差: 0.0005236423938\n",
      "n = 10000  \t π ≒ 3.141645014 \t 誤差: 5.236031388e-5\n",
      "n = 100000 \t π ≒ 3.141597890 \t 誤差: 5.235992120e-6\n"
     ]
    }
   ],
   "source": [
    "DPS = 100\n",
    "mpmath.mp.dps = DPS\n",
    "from math import pi\n",
    "\n",
    "for i in [10, 10**2, 10**3, 10**4, 10**5]:\n",
    "    s_pi = stirling(i) ** 2\n",
    "    s_pi_str = mpmath.nstr(s_pi, 10, strip_zeros=False)\n",
    "    error_str = mpmath.nstr(s_pi-pi, 10, strip_zeros=False)\n",
    "    print(f\"n = {i: <6} \\t π ≒ {s_pi_str} \\t 誤差: {error_str}\")"
   ]
  },
  {
   "cell_type": "markdown",
   "metadata": {},
   "source": [
    "$n$ が $10$ 倍になると誤差が $\\frac{1}{10}$ になることがわかります。ただし、この方法だと円周率の上からの評価しか得られないので、もう少し工夫してみます。\n",
    "\n",
    "$$\\lim_{n\\to\\infty}\\frac{n!}{\\sqrt{2n}\\left(\\frac{n}{e}\\right)^n} = \\sqrt{\\pi}$$\n",
    "\n",
    "を認めて、\n",
    "\n",
    "$$a_n = \\frac{n!}{\\sqrt{n}\\left(\\frac{n}{e}\\right)^n}, \\quad b_n = \\frac{1}{\\sqrt{2}}a_n$$\n",
    "\n",
    "とおくと、\n",
    " \n",
    "$$\\begin{align}\n",
    "\\log \\frac{b_n}{b_{n+1}} &= \\log \\left(\\frac{n!}{\\sqrt{2n}\\left(\\frac{n}{e}\\right)^n} \\frac{\\sqrt{2(n+1)}\\left(\\frac{n+1}{e}\\right)^{n+1}}{(n+1)!}\\right) \\\\\n",
    "&= \\left(n+\\frac{1}{2}\\right)\\log \\left(1+\\frac{1}{n}\\right) -1\n",
    "\\end{align}$$\n",
    "\n",
    "となります。テイラー展開 $\\log(1+x) = \\sum_{k=1}^{\\infty} \\frac{(-1)^{k-1}}{k}x^k$ $(-1 < x \\leq 1)$ を用いると\n",
    "\n",
    "$$\\begin{align}\n",
    "\\log \\frac{b_n}{b_{n+1}} &= \\left(n+\\frac{1}{2}\\right)\\log \\left(1+\\frac{1}{n}\\right) -1 \\\\\n",
    "&= \\left(n+\\frac{1}{2}\\right)\\sum_{k=1}^{\\infty} \\frac{(-1)^{k-1}}{k}\\frac{1}{n^k} -1\\\\\n",
    "&= \\sum_{k=1}^{\\infty} \\frac{(-1)^{k-1}}{k}\\frac{1}{n^{k-1}} +\\sum_{k=1}^{\\infty} \\frac{(-1)^{k-1}}{2k}\\frac{1}{n^k} -1\\\\\n",
    "&= \\sum_{k=2}^{\\infty} \\frac{(-1)^{k-1}}{k}\\frac{1}{n^{k-1}} +\\sum_{k=1}^{\\infty} \\frac{(-1)^{k-1}}{2k}\\frac{1}{n^k}\\\\\n",
    "&= \\sum_{k=2}^{\\infty} (-1)^{k}\\left(\\frac{k -1}{2k(k+1)}\\right) \\frac{1}{n^{k}} \\\\\n",
    "\\end{align}$$\n",
    "\n",
    "となります。$\\lim_{n\\to\\infty} b_n = \\sqrt{\\pi}$ から\n",
    "\n",
    "$$\\begin{align}\n",
    "\\log \\frac{b_n}{\\sqrt{\\pi}} &= \\sum_{m=n}^{\\infty} \\log \\frac{b_m}{b_{m+1}} = \\sum_{m=n}^{\\infty} \\sum_{k=2}^{\\infty} (-1)^{k}\\left(\\frac{k -1}{2k(k+1)}\\right) \\frac{1}{m^{k}} \\\\\n",
    "&= \\sum_{k=2}^{\\infty} (-1)^{k}\\left(\\frac{k -1}{2k(k+1)}\\right) \\sum_{m=n}^{\\infty}\\frac{1}{m^{k}} \n",
    "\\end{align}$$\n",
    "\n",
    "となりますが、\n",
    "\n",
    "$$\\frac{1}{k-1} \\frac{1}{n^{k-1}} = \\int_{n}^{\\infty} \\frac{1}{x^k} dx \\leq \\sum_{m=n}^{\\infty}\\frac{1}{m^{k}} \\leq \\int_{n}^{\\infty} \\frac{1}{x^k} dx + \\frac{1}{n^k} = \\frac{1}{k-1} \\frac{1}{n^{k-1}} + \\frac{1}{n^k}$$\n",
    "\n",
    "が成り立つので\n",
    "\n",
    "$$\\begin{align}\n",
    "\\sum_{k=2}^{\\infty} \\left(\\frac{(-1)^{k}}{2k(k+1)}\\right) \\frac{1}{n^{k-1}} & \\leq \\log \\frac{b_n}{\\sqrt{\\pi}} \\leq \\sum_{k=2}^{\\infty} \\left(\\frac{(-1)^{k}}{2k(k+1)}\\right) \\frac{1}{n^{k-1}} + \\sum_{k=2}^{\\infty} (-1)^{k}\\left(\\frac{k -1}{2k(k+1)}\\right) \\frac{1}{n^k} \\\\ \n",
    "\\frac{1}{12n} -\\frac{1}{24n^2} & \\leq \\log \\frac{b_n}{\\sqrt{\\pi}} \\leq \\frac{1}{12n} +\\frac{1}{12n^2}\n",
    "\\end{align}$$\n",
    "\n",
    "が成り立ちます。よって\n",
    "\n",
    "$$\\begin{align}\n",
    "\\log b_n -\\frac{1}{12n} -\\frac{1}{12n^2} &\\leq \\log \\sqrt{\\pi} \\leq \\log b_n -\\frac{1}{12n} +\\frac{1}{24n^2} \\\\\n",
    "b_n e^{-\\frac{1}{12n}-\\frac{1}{12n^2}} & \\leq \\sqrt{\\pi} \\leq b_n e^{-\\frac{1}{12n}+\\frac{1}{24n^2}} \\\\\n",
    "b_n^2 e^{-\\frac{1}{6n}-\\frac{1}{6n^2}} & \\leq \\pi \\leq  b_n^2 e^{-\\frac{1}{6n}+\\frac{1}{12n^2}}\n",
    "\\end{align}$$\n",
    "\n",
    "が成り立ちます。"
   ]
  },
  {
   "cell_type": "code",
   "execution_count": 3,
   "metadata": {},
   "outputs": [],
   "source": [
    "def modified_stirling_low(n):\n",
    "    return (stirling(i) ** 2) * mpmath.exp(-1/(6 * n) -1 /(6 * n **2))\n",
    "\n",
    "def modified_stirling_up(n):\n",
    "    return stirling(i) ** 2 * mpmath.exp(-1/(6 * n) +1 /(12 * n **2))"
   ]
  },
  {
   "cell_type": "code",
   "execution_count": 4,
   "metadata": {},
   "outputs": [
    {
     "name": "stdout",
     "output_type": "stream",
     "text": [
      "n = 10     \t  \u001b[31m3.1\u001b[0m36343652 ≦ π ≦ \u001b[31m3.14\u001b[0m4194320\n",
      "n = 100    \t  \u001b[31m3.1415\u001b[0m40277 ≦ π ≦ \u001b[31m3.141\u001b[0m618816\n",
      "n = 1000   \t  \u001b[31m3.141592\u001b[0m130 ≦ π ≦ \u001b[31m3.141592\u001b[0m915\n",
      "n = 10000  \t  \u001b[31m3.1415926\u001b[0m48 ≦ π ≦ \u001b[31m3.14159265\u001b[0m6\n"
     ]
    }
   ],
   "source": [
    "import sys\n",
    "sys.path.append('/home/jovyan/work/')\n",
    "from lib.utils import color_pi, PI_50\n",
    "\n",
    "DPS = 25\n",
    "\n",
    "for i in [10, 10**2, 10**3, 10**4]:\n",
    "    mpmath.mp.dps = DPS\n",
    "    lower = modified_stirling_low(i)\n",
    "    upper = modified_stirling_up(i)\n",
    "    \n",
    "    low_str = mpmath.nstr(lower, 10, strip_zeros=False)\n",
    "    up_str = mpmath.nstr(upper, 10, strip_zeros=False)\n",
    "    \n",
    "    print(f\"n = {i: <6} \\t  {color_pi(low_str, PI_50)} ≦ π ≦ {color_pi(up_str, PI_50)}\")"
   ]
  },
  {
   "cell_type": "markdown",
   "metadata": {},
   "source": [
    "このように $n$ が $10$ 倍で誤差が $2$ 桁減るようになりました。"
   ]
  }
 ],
 "metadata": {
  "kernelspec": {
   "display_name": "Python 3",
   "language": "python",
   "name": "python3"
  },
  "language_info": {
   "codemirror_mode": {
    "name": "ipython",
    "version": 3
   },
   "file_extension": ".py",
   "mimetype": "text/x-python",
   "name": "python",
   "nbconvert_exporter": "python",
   "pygments_lexer": "ipython3",
   "version": "3.7.3"
  }
 },
 "nbformat": 4,
 "nbformat_minor": 2
}
