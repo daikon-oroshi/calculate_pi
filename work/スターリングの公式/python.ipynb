{
 "cells": [
  {
   "cell_type": "markdown",
   "metadata": {},
   "source": [
    "# スターリングの公式を用いて円周率を計算する"
   ]
  },
  {
   "cell_type": "markdown",
   "metadata": {},
   "source": [
    "スターリングの公式\n",
    "\n",
    "$$n ! \\sim \\sqrt{2 \\pi n}\\left(\\frac{n}{e}\\right)^n$$\n",
    "\n",
    "ここで $\\sim$ は\n",
    "\n",
    "$$\\lim_{n\\to\\infty} \\frac{n!}{\\sqrt{2 \\pi n}\\left(\\frac{n}{e}\\right)^n} = 1$$\n",
    "\n",
    "を満たすことを意味します。両辺 $\\sqrt{\\pi}$ をかけて\n",
    "\n",
    "$$\\sqrt{\\pi} = \\lim_{n\\to\\infty} \\frac{n!}{\\sqrt{2 n}\\left(\\frac{n}{e}\\right)^n}$$\n",
    "\n",
    "となります。これで円周率を求めます。"
   ]
  },
  {
   "cell_type": "code",
   "execution_count": 37,
   "metadata": {},
   "outputs": [],
   "source": [
    "import math\n",
    "import mpmath\n",
    "\n",
    "def stirling(n) -> float:\n",
    "    val = mpmath.mpf(1)\n",
    "    for i in range(1, n+1):\n",
    "        val = val * (i * mpmath.e / n)        \n",
    "    return val / math.sqrt(2 * n) "
   ]
  },
  {
   "cell_type": "code",
   "execution_count": 47,
   "metadata": {},
   "outputs": [
    {
     "name": "stdout",
     "output_type": "stream",
     "text": [
      "n = 10     \t π ≒ 3.1943736 \t 誤差: 0.052780948\n",
      "n = 100    \t π ≒ 3.146833 \t 誤差: 0.005240336\n",
      "n = 1000   \t π ≒ 3.1421163 \t 誤差: 0.00052364239\n",
      "n = 10000  \t π ≒ 3.141645 \t 誤差: 5.2360314e-5\n",
      "n = 100000 \t π ≒ 3.1415979 \t 誤差: 5.2359921e-6\n"
     ]
    }
   ],
   "source": [
    "DPS = 100\n",
    "mpmath.mp.dps = DPS\n",
    "from math import pi\n",
    "\n",
    "for i in [10, 10**2, 10**3, 10**4, 10**5]:\n",
    "    mpmath.mp.dps = DPS\n",
    "    s_pi = stirling(i) ** 2\n",
    "    mpmath.mp.dps = 8\n",
    "    print(f\"n = {i: <6} \\t π ≒ {s_pi} \\t 誤差: {s_pi-pi}\")"
   ]
  },
  {
   "cell_type": "markdown",
   "metadata": {},
   "source": [
    "$n$ が $10$ 倍になると誤差が $\\frac{1}{10}$ になることがわかります。ただし、この方法だと円周率の上からの評価しか得られないので、もう少し工夫してみます。\n",
    "\n",
    "$$\\lim_{n\\to\\infty}\\frac{n!}{\\sqrt{2n}\\left(\\frac{n}{e}\\right)^n} = \\sqrt{\\pi}$$\n",
    "\n",
    "を認めて、\n",
    "\n",
    "$$a_n = \\frac{n!}{\\sqrt{n}\\left(\\frac{n}{e}\\right)^n}, \\quad b_n = \\frac{1}{\\sqrt{2}}a_n$$\n",
    "\n",
    "とおくと、\n",
    " \n",
    "$$\\begin{align}\n",
    "\\log \\frac{b_n}{b_{n+1}} &= \\log \\left(\\frac{n!}{\\sqrt{2n}\\left(\\frac{n}{e}\\right)^n} \\frac{\\sqrt{2(n+1)}\\left(\\frac{n+1}{e}\\right)^{n+1}}{(n+1)!}\\right) \\\\\n",
    "&= \\left(n+\\frac{1}{2}\\right)\\log \\left(1+\\frac{1}{n}\\right) -1\n",
    "\\end{align}$$\n",
    "\n",
    "となります。テイラー展開 $\\log(1+x) = \\sum_{k=1}^{\\infty} \\frac{(-1)^{k-1}}{k}x^k$ $(-1 < x \\leq 1)$ を用いると\n",
    "\n",
    "$$\\begin{align}\n",
    "\\log \\frac{b_n}{b_{n+1}} &= \\left(n+\\frac{1}{2}\\right)\\log \\left(1+\\frac{1}{n}\\right) -1 \\\\\n",
    "&= \\left(n+\\frac{1}{2}\\right)\\sum_{k=1}^{\\infty} \\frac{(-1)^{k-1}}{k}\\frac{1}{n^k} -1\\\\\n",
    "&= \\sum_{k=1}^{\\infty} \\frac{(-1)^{k-1}}{k}\\frac{1}{n^{k-1}} +\\sum_{k=1}^{\\infty} \\frac{(-1)^{k-1}}{2k}\\frac{1}{n^k} -1\\\\\n",
    "&= \\sum_{k=2}^{\\infty} \\frac{(-1)^{k-1}}{k}\\frac{1}{n^{k-1}} +\\sum_{k=1}^{\\infty} \\frac{(-1)^{k-1}}{2k}\\frac{1}{n^k}\\\\\n",
    "&= \\sum_{k=2}^{\\infty} (-1)^{k}\\left(\\frac{k -1}{2k(k+1)}\\right) \\frac{1}{n^{k}} \\\\\n",
    "\\end{align}$$\n",
    "\n",
    "となります。$\\lim_{n\\to\\infty} b_n = \\sqrt{\\pi}$ から\n",
    "\n",
    "$$\\begin{align}\n",
    "\\log \\frac{b_n}{\\sqrt{\\pi}} &= \\sum_{m=n}^{\\infty} \\log \\frac{b_m}{b_{m+1}} = \\sum_{m=n}^{\\infty} \\sum_{k=2}^{\\infty} (-1)^{k}\\left(\\frac{k -1}{2k(k+1)}\\right) \\frac{1}{m^{k}} \\\\\n",
    "&= \\sum_{k=2}^{\\infty} (-1)^{k}\\left(\\frac{k -1}{2k(k+1)}\\right) \\sum_{m=n}^{\\infty}\\frac{1}{m^{k}} \n",
    "\\end{align}$$\n",
    "\n",
    "となりますが、\n",
    "\n",
    "$$\\frac{1}{k-1} \\frac{1}{n^{k-1}} = \\int_{n}^{\\infty} \\frac{1}{x^k} dx \\leq \\sum_{m=n}^{\\infty}\\frac{1}{m^{k}} \\leq \\int_{n}^{\\infty} \\frac{1}{x^k} dx + \\frac{1}{n^k} = \\frac{1}{k-1} \\frac{1}{n^{k-1}} + \\frac{1}{n^k}$$\n",
    "\n",
    "が成り立つので\n",
    "\n",
    "$$\\begin{align}\n",
    "\\sum_{k=2}^{\\infty} \\left(\\frac{(-1)^{k}}{2k(k+1)}\\right) \\frac{1}{n^{k-1}} & \\leq \\log \\frac{b_n}{\\sqrt{\\pi}} \\leq \\sum_{k=2}^{\\infty} \\left(\\frac{(-1)^{k}}{2k(k+1)}\\right) \\frac{1}{n^{k-1}} + \\sum_{k=2}^{\\infty} (-1)^{k}\\left(\\frac{k -1}{2k(k+1)}\\right) \\frac{1}{n^k} \\\\ \n",
    "\\frac{1}{12n} -\\frac{1}{24n^2} & \\leq \\log \\frac{b_n}{\\sqrt{\\pi}} \\leq \\frac{1}{12n} +\\frac{1}{12n^2}\n",
    "\\end{align}$$\n",
    "\n",
    "が成り立ちます。よって\n",
    "\n",
    "$$\\begin{align}\n",
    "\\log b_n -\\frac{1}{12n} -\\frac{1}{12n^2} &\\leq \\log \\sqrt{\\pi} \\leq \\log b_n -\\frac{1}{12n} +\\frac{1}{24n^2} \\\\\n",
    "b_n e^{-\\frac{1}{12n}-\\frac{1}{12n^2}} & \\leq \\sqrt{\\pi} \\leq b_n e^{-\\frac{1}{12n}+\\frac{1}{24n^2}} \\\\\n",
    "b_n^2 e^{-\\frac{1}{6n}-\\frac{1}{6n^2}} & \\leq \\pi \\leq  b_n^2 e^{-\\frac{1}{6n}+\\frac{1}{12n^2}}\n",
    "\\end{align}$$\n",
    "\n",
    "が成り立ちます。"
   ]
  },
  {
   "cell_type": "code",
   "execution_count": 59,
   "metadata": {},
   "outputs": [],
   "source": [
    "def modified_stirling_low(n):\n",
    "    return (stirling(i) ** 2) * mpmath.exp(-1/(6 * n) -1 /(6 * n **2))\n",
    "\n",
    "def modified_stirling_up(n):\n",
    "    return stirling(i) ** 2 * mpmath.exp(-1/(6 * n) +1 /(12 * n **2))"
   ]
  },
  {
   "cell_type": "code",
   "execution_count": 63,
   "metadata": {},
   "outputs": [
    {
     "name": "stdout",
     "output_type": "stream",
     "text": [
      "n = 10     \t  3.1363436519693770038 ≦ π ≦ 3.1441943203458817198 \t 誤差: 0.007850668376504715979\n",
      "n = 100    \t  3.1415402766960600994 ≦ π ≦ 3.1416188161847170181 \t 誤差: 0.000078539488656918641412\n",
      "n = 1000   \t  3.1415921299736076836 ≦ π ≦ 3.1415929153717383518 \t 誤差: 7.8539813066818016493e-7\n",
      "n = 10000  \t  3.1415926483537878037 ≦ π ≦ 3.1415926562077694344 \t 誤差: 7.8539816306958580659e-9\n",
      "n = 100000 \t  3.1415926535374334649 ≦ π ≦ 3.1415926536159732813 \t 誤差: 7.8539816340263916145e-11\n"
     ]
    }
   ],
   "source": [
    "DPS = 20\n",
    "\n",
    "for i in [10, 10**2, 10**3, 10**4, 10**5]:\n",
    "    mpmath.mp.dps = DPS\n",
    "    lower = modified_stirling_low(i)\n",
    "    upper = modified_stirling_up(i)\n",
    "    print(f\"n = {i: <6} \\t  {lower} ≦ π ≦ {upper} \\t 誤差: {upper - lower}\")"
   ]
  },
  {
   "cell_type": "markdown",
   "metadata": {},
   "source": [
    "このように $n$ が $10$ 倍で誤差が $2$ 桁減るようになりました。"
   ]
  }
 ],
 "metadata": {
  "kernelspec": {
   "display_name": "Python 3",
   "language": "python",
   "name": "python3"
  },
  "language_info": {
   "codemirror_mode": {
    "name": "ipython",
    "version": 3
   },
   "file_extension": ".py",
   "mimetype": "text/x-python",
   "name": "python",
   "nbconvert_exporter": "python",
   "pygments_lexer": "ipython3",
   "version": "3.7.3"
  }
 },
 "nbformat": 4,
 "nbformat_minor": 2
}
